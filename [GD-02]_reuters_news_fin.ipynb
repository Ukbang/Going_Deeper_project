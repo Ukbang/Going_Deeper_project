{
 "cells": [
  {
   "cell_type": "markdown",
   "id": "543aeb5b",
   "metadata": {},
   "source": [
    "# 프로젝트: 뉴스 카테고리 다중분류 : Vocabulary Size를 변경해서 시도해보기\n",
    "============================================================================================================="
   ]
  },
  {
   "cell_type": "markdown",
   "id": "4c58928b",
   "metadata": {},
   "source": [
    "## 목차\n",
    "\n",
    ">### 1. 데이터 로더 만들기\n",
    ">### 2. 머신러닝 모델 정의하기\n",
    ">### 3. 머신러닝 학습 및 결과 확인\n",
    ">### 4. 딥러닝 모델 정의하기\n",
    ">### 5. 딥러닝 모델 학습 및 결과 확인\n",
    ">### 6. 회고\n",
    ">### 7. Reference\n",
    ">### 8. 자기다짐 및 아쉬운 점\n",
    "---"
   ]
  },
  {
   "cell_type": "markdown",
   "id": "d7df6df8",
   "metadata": {},
   "source": [
    "## 루브릭 평가 기준\n",
    "\n",
    "1. 분류 모델의 accuracy가 기준 이상 높게 나왔는가?\n",
    "    - 3가지 단어 개수에 대해 8가지 머신러닝 기법을 적용하여 그중 최적의 솔루션을 도출하였다.\n",
    "2. 분류 모델의 F1 score가 기준 이상 높게 나왔는가?\n",
    "    - Vocabulary size에 따른 각 머신러닝 모델의 성능변화 추이를 살피고, 해당 머신러닝 알고리즘의 특성에 근거해 원인을 분석하였다.\n",
    "3. 딥러닝 모델을 활용해 성능이 비교 및 확인되었는가?\n",
    "    - 동일한 데이터셋과 전처리 조건으로 딥러닝 모델의 성능과 비교하여 결과에 따른 원인을 분석하였다.\n",
    "---    "
   ]
  },
  {
   "cell_type": "markdown",
   "id": "7763a54b",
   "metadata": {},
   "source": [
    "## 1. 데이터 로더 만들기"
   ]
  },
  {
   "cell_type": "code",
   "execution_count": 32,
   "id": "473ad7f7",
   "metadata": {},
   "outputs": [],
   "source": [
    "import tensorflow as tf\n",
    "from tensorflow import keras\n",
    "from tensorflow.keras.layers import Embedding, Dropout, LSTM, Dense, BatchNormalization, Bidirectional\n",
    "from tensorflow.keras.preprocessing.sequence import pad_sequences\n",
    "from tensorflow.keras.callbacks import EarlyStopping\n",
    "from tensorflow.keras.losses import CategoricalCrossentropy, SparseCategoricalCrossentropy\n",
    "from tensorflow.keras.optimizers import Adam\n",
    "from tensorflow.keras.datasets import reuters\n",
    "import tensorflow_addons as tfa\n",
    "from tensorflow_addons.metrics import F1Score\n",
    "from tensorflow.keras.utils import to_categorical\n",
    "\n",
    "import matplotlib.pyplot as plt\n",
    "import seaborn as sns\n",
    "import numpy as np\n",
    "import pandas as pd\n",
    "import matplotlib.pyplot as plt\n",
    "import warnings\n",
    "warnings.filterwarnings('ignore')\n",
    "\n",
    "import sklearn\n",
    "from sklearn.model_selection import train_test_split\n",
    "from sklearn.feature_extraction.text import CountVectorizer, TfidfTransformer\n",
    "from sklearn.naive_bayes import MultinomialNB, ComplementNB\n",
    "from sklearn.linear_model import LogisticRegression, SGDClassifier\n",
    "from sklearn.tree import DecisionTreeClassifier\n",
    "from sklearn.ensemble import RandomForestClassifier, GradientBoostingClassifier, VotingClassifier\n",
    "from sklearn.svm import LinearSVC\n",
    "from sklearn.metrics import accuracy_score, classification_report, confusion_matrix\n",
    "\n",
    "seed = 42 \n",
    "np.random.seed(seed)\n",
    "tf.random.set_seed(seed)"
   ]
  },
  {
   "cell_type": "code",
   "execution_count": 2,
   "id": "03ce1328",
   "metadata": {},
   "outputs": [],
   "source": [
    "def data_loader(num_words=None, test_split=0.2):\n",
    "    \n",
    "    \"\"\"\n",
    "    로이터 뉴스 데이터셋은 0~3까지의 vocabulary가 비어있다.\n",
    "    사용자와의 약속으로 0은 pad, 1은 sos 토큰, 2는 unk 토큰으로 지정되어있다.\n",
    "    명시되어있지 않지만 3도 빈칸인것으로 보아 임의로 eos 토큰을 지정하였다.\n",
    "    \"\"\"\n",
    "    \n",
    "    token_dict = {0:'<pad>', 1:'<sos>', 2:'<unk>', 3:'<eos>'}\n",
    "    \n",
    "    (x_train, y_train), (x_test, y_test) = reuters.load_data(num_words=num_words, test_split=test_split)\n",
    "    \n",
    "    word_index = reuters.get_word_index(path=\"reuters_word_index.json\")\n",
    "    index_to_word = {index+3 : word for word, index in word_index.items()}\n",
    "    word_to_index = {word:index for index, word in index_to_word.items()}\n",
    "\n",
    "    for index, token in token_dict.items():\n",
    "        index_to_word[index]=token\n",
    "    \n",
    "    x_train = decoder(x_train, index_to_word)\n",
    "    x_test = decoder(x_test, index_to_word)\n",
    "    \n",
    "    return x_train, y_train, x_test, y_test, index_to_word, word_to_index"
   ]
  },
  {
   "cell_type": "code",
   "execution_count": 3,
   "id": "3b353aa1",
   "metadata": {},
   "outputs": [],
   "source": [
    "def decoder(data, index_to_word): # 디코더 함수 -> index 형태에서 word형태로 바꾸어준다.\n",
    "    decoded = []\n",
    "    for i in range(len(data)):\n",
    "        t = ' '.join([index_to_word[index] for index in data[i]])\n",
    "        decoded.append(t)\n",
    "        \n",
    "    return decoded"
   ]
  },
  {
   "cell_type": "code",
   "execution_count": 4,
   "id": "c6074e1b",
   "metadata": {},
   "outputs": [],
   "source": [
    "def total_check(train, test, y_train): # 데이터의 클래스 확인\n",
    "    fig, axe = plt.subplots(ncols=1)\n",
    "    fig.set_size_inches(11,5)\n",
    "    plt.title('class distribution')\n",
    "    sns.countplot(x = y_train)\n",
    "    plt.show()\n",
    "    \n",
    "    unique_elements, counts_elements = np.unique(y_train, return_counts=True)\n",
    "    print(\"각 클래스:\", '\\n', unique_elements, '\\n')\n",
    "    print('각 클래스별 갯수: ') \n",
    "    counts_dict = {}\n",
    "    for i, v in enumerate(counts_elements):\n",
    "        counts_dict.update({str(i):v})\n",
    "    print(counts_dict)"
   ]
  },
  {
   "cell_type": "code",
   "execution_count": 5,
   "id": "ccbff7aa",
   "metadata": {},
   "outputs": [],
   "source": [
    "def tfidf_transformer(x_train, x_test): # tfidf 변환 함수\n",
    "    dtm = CountVectorizer()\n",
    "    tfidf_transformer = TfidfTransformer()\n",
    "    \n",
    "    train_dtm = dtm.fit_transform(x_train)\n",
    "    tfidf = tfidf_transformer.fit_transform(train_dtm)\n",
    "    \n",
    "    test_dtm = dtm.transform(x_test)\n",
    "    test_tfidf = tfidf_transformer.transform(test_dtm)    \n",
    "    \n",
    "    print('Train TF-IDF의 shape: ', tfidf.shape)\n",
    "    print('Test TF-IDF의 shape: ', test_tfidf.shape)\n",
    "    print('----'*26)\n",
    "    \n",
    "    return tfidf, test_tfidf"
   ]
  },
  {
   "cell_type": "code",
   "execution_count": 6,
   "id": "bf31fc65",
   "metadata": {},
   "outputs": [
    {
     "name": "stdout",
     "output_type": "stream",
     "text": [
      "Downloading data from https://storage.googleapis.com/tensorflow/tf-keras-datasets/reuters.npz\n",
      "2113536/2110848 [==============================] - 0s 0us/step\n",
      "2121728/2110848 [==============================] - 0s 0us/step\n",
      "Downloading data from https://storage.googleapis.com/tensorflow/tf-keras-datasets/reuters_word_index.json\n",
      "557056/550378 [==============================] - 0s 0us/step\n",
      "565248/550378 [==============================] - 0s 0us/step\n"
     ]
    }
   ],
   "source": [
    "x_train_all, y_train_all, x_test_all, y_test_all, idx_to_word, word_to_idx = data_loader(num_words=None)\n",
    "x_train_5000, y_train_5000, x_test_5000, y_test_5000, idx_to_word, word_to_idx = data_loader(num_words=5000)\n",
    "x_train_10000, y_train_10000, x_test_10000, y_test_10000, idx_to_word, word_to_idx = data_loader(num_words=10000)\n",
    "x_train_15000, y_train_15000, x_test_15000, y_test_15000, idx_to_word, word_to_idx = data_loader(num_words=15000)"
   ]
  },
  {
   "cell_type": "code",
   "execution_count": 7,
   "id": "dcb0d802",
   "metadata": {},
   "outputs": [
    {
     "data": {
      "image/png": "[encoded data removed]",
      "text/plain": [
       "<Figure size 792x360 with 1 Axes>"
      ]
     },
     "metadata": {
      "needs_background": "light"
     },
     "output_type": "display_data"
    },
    {
     "name": "stdout",
     "output_type": "stream",
     "text": [
      "각 클래스: \n",
      " [ 0  1  2  3  4  5  6  7  8  9 10 11 12 13 14 15 16 17 18 19 20 21 22 23\n",
      " 24 25 26 27 28 29 30 31 32 33 34 35 36 37 38 39 40 41 42 43 44 45] \n",
      "\n",
      "각 클래스별 갯수: \n",
      "{'0': 55, '1': 432, '2': 74, '3': 3159, '4': 1949, '5': 17, '6': 48, '7': 16, '8': 139, '9': 101, '10': 124, '11': 390, '12': 49, '13': 172, '14': 26, '15': 20, '16': 444, '17': 39, '18': 66, '19': 549, '20': 269, '21': 100, '22': 15, '23': 41, '24': 62, '25': 92, '26': 24, '27': 15, '28': 48, '29': 19, '30': 45, '31': 39, '32': 32, '33': 11, '34': 50, '35': 10, '36': 49, '37': 19, '38': 19, '39': 24, '40': 36, '41': 30, '42': 13, '43': 21, '44': 12, '45': 18}\n"
     ]
    }
   ],
   "source": [
    "total_check(x_train_all, x_test_all, y_train_all)"
   ]
  },
  {
   "cell_type": "markdown",
   "id": "159e0d1a",
   "metadata": {},
   "source": [
    "---\n",
    "## 2. 머신러닝 모델 정의하기"
   ]
  },
  {
   "cell_type": "code",
   "execution_count": 8,
   "id": "ae55c582",
   "metadata": {},
   "outputs": [],
   "source": [
    "def nb_class(x_train, x_test, y_train, y_test, num_words): # 나이브 베이즈 분류기\n",
    "    \n",
    "    nb_model = MultinomialNB()\n",
    "    nb_model.fit(x_train, y_train)\n",
    "    \n",
    "    predicted = nb_model.predict(x_test)\n",
    "    acc = round(accuracy_score(y_test, predicted), 4) * 100\n",
    "    print(\"단어사전 {} 나이브 베이즈 정확도:\".format(num_words), acc)\n",
    "    print('학습 종료')\n",
    "    print('----'*26)\n",
    "    \n",
    "    return acc, predicted"
   ]
  },
  {
   "cell_type": "code",
   "execution_count": 9,
   "id": "2d71f8a2",
   "metadata": {},
   "outputs": [],
   "source": [
    "def cnb_class(x_train, x_test, y_train, y_test, param, num_words): # 컴플리먼트 나이브 베이즈 분류기\n",
    "    cb = ComplementNB(**param)\n",
    "    cb.fit(x_train, y_train)\n",
    "    \n",
    "    predicted = cb.predict(x_test)\n",
    "    acc = round(accuracy_score(y_test, predicted), 4) * 100\n",
    "    print(\"단어사전 {} 컴플리먼트 나이브 베이즈 정확도: \".format(num_words), acc)\n",
    "    print('학습 종료')\n",
    "    print('----'*26)\n",
    "    \n",
    "    return acc, predicted"
   ]
  },
  {
   "cell_type": "code",
   "execution_count": 10,
   "id": "178e0fde",
   "metadata": {},
   "outputs": [],
   "source": [
    "def lr_class(x_train, x_test, y_train, y_test, param, num_words): # 로지스틱 회귀 모델\n",
    "    lr = LogisticRegression(**param)\n",
    "    lr.fit(x_train, y_train)\n",
    "    predicted = lr.predict(x_test) #테스트 데이터에 대한 예측\n",
    "    acc = round(accuracy_score(y_test, predicted), 4) * 100\n",
    "    print(\"단어사전 {} 로지스틱 회귀 정확도: \".format(num_words), acc)\n",
    "    print('학습 종료')    \n",
    "    print('----'*26)\n",
    "    \n",
    "    return acc, predicted"
   ]
  },
  {
   "cell_type": "code",
   "execution_count": 11,
   "id": "1a4e3670",
   "metadata": {},
   "outputs": [],
   "source": [
    "def spm_class(x_train, x_test, y_train, y_test, param, num_words): # 서포트 벡터 머신\n",
    "    lsvc = LinearSVC(**param)\n",
    "    lsvc.fit(x_train, y_train)\n",
    "    predicted = lsvc.predict(x_test) #테스트 데이터에 대한 예측\n",
    "    acc = round(accuracy_score(y_test, predicted), 4) * 100\n",
    "    print(\"단어사전 {} 서포트 벡터 머신 정확도: \".format(num_words), acc)\n",
    "    print('학습 종료')    \n",
    "    print('----'*26)\n",
    "    \n",
    "    return acc, predicted"
   ]
  },
  {
   "cell_type": "code",
   "execution_count": 12,
   "id": "408772d4",
   "metadata": {},
   "outputs": [],
   "source": [
    "def dt_class(x_train, x_test, y_train, y_test, param, num_words): # 의사결정나무 모델\n",
    "    tree = DecisionTreeClassifier(**param)\n",
    "    tree.fit(x_train, y_train)\n",
    "    predicted = tree.predict(x_test) #테스트 데이터에 대한 예측\n",
    "    acc = round(accuracy_score(y_test, predicted), 4) * 100\n",
    "    print(\"단어사전 {} 의사결정나무 정확도: \".format(num_words), acc)\n",
    "    print('학습 종료')    \n",
    "    print('----'*26)\n",
    "    \n",
    "    return acc, predicted"
   ]
  },
  {
   "cell_type": "code",
   "execution_count": 13,
   "id": "f5911277",
   "metadata": {},
   "outputs": [],
   "source": [
    "def rf_class(x_train, x_test, y_train, y_test, param, num_words): # 랜덤포레스트 모델\n",
    "    forest = RandomForestClassifier(**param)\n",
    "    forest.fit(x_train, y_train)\n",
    "    predicted = forest.predict(x_test) #테스트 데이터에 대한 예측\n",
    "    acc = round(accuracy_score(y_test, predicted), 4) * 100\n",
    "    print(\"단어사전 {} 랜덤 포레스트 정확도: \".format(num_words), acc)\n",
    "    print('학습 종료')    \n",
    "    print('----'*26)\n",
    "    \n",
    "    return acc, predicted"
   ]
  },
  {
   "cell_type": "code",
   "execution_count": 14,
   "id": "3ff6e65c",
   "metadata": {},
   "outputs": [],
   "source": [
    "def gb_class(x_train, x_test, y_train, y_test, param, num_words): # 그래디언트부스팅 모델\n",
    "    grbt = GradientBoostingClassifier(**param)\n",
    "    grbt.fit(x_train, y_train)\n",
    "    predicted = grbt.predict(x_test) #테스트 데이터에 대한 예측\n",
    "    acc = round(accuracy_score(y_test, predicted), 4) * 100\n",
    "    print(\"단어사전 {} 그래디언트 부스팅 트리 정확도: \".format(num_words), acc)\n",
    "    print('학습 종료')    \n",
    "    print('----'*26)\n",
    "    \n",
    "    return acc, predicted    "
   ]
  },
  {
   "cell_type": "code",
   "execution_count": 15,
   "id": "f1b271fe",
   "metadata": {},
   "outputs": [],
   "source": [
    "def vt_class(x_train, x_test, y_train, y_test,  # 보팅 클래스 모델\n",
    "             class_name, model_name,\n",
    "             voting_type = 'soft',\n",
    "             num_words = 0):\n",
    "    \n",
    "    voting_classifier = VotingClassifier(estimators=[\n",
    "         (class_name[0], model_name[0]),\n",
    "        (class_name[1], model_name[1]),\n",
    "        (class_name[2], model_name[2])], \n",
    "        voting = voting_type,\n",
    "        verbose=1)\n",
    "    \n",
    "    voting_classifier.fit(x_train, y_train)\n",
    "    predicted = voting_classifier.predict(x_test) #테스트 데이터에 대한 예측\n",
    "    acc = round(accuracy_score(y_test, predicted), 4) * 100\n",
    "    print('\\n')\n",
    "    print(\"단어사전 {} 클래스 {} , {}, {} 보팅 정확도: \".format(num_words, class_name[0], class_name[1], class_name[2])\n",
    "          , acc)\n",
    "    print('학습 종료')    \n",
    "    print('----'*26)\n",
    "    \n",
    "    return acc, predicted"
   ]
  },
  {
   "cell_type": "code",
   "execution_count": 16,
   "id": "1a3ff500",
   "metadata": {},
   "outputs": [],
   "source": [
    "def df_result(acc_list, name_list, name='0'):\n",
    "    \"\"\"\n",
    "    결과값의 Accuracy를 기준으로 \n",
    "    모든 평가지표의 합으로 성능을 평가할 것이므로 \n",
    "    DataFrame 형태로 만들어주어 Sum 컬럼을 추가하였음.\n",
    "    \"\"\"\n",
    "    for i in range(len(acc_list)):\n",
    "        if i == 0:\n",
    "            acc = pd.Series(acc_list[i], index=[name_list[i]])\n",
    "            df = pd.DataFrame(acc)\n",
    "        elif i != 0:\n",
    "            other = pd.Series(acc_list[i], index=[name_list[i]])\n",
    "            df = pd.concat([df, other], axis = 0)\n",
    "    x = df[0].sum()\n",
    "    x = pd.Series(x, index = ['Sum'])\n",
    "    df = round(pd.concat([df, x], axis = 0) , 2)\n",
    "    df.rename(columns = {0: 'Accuracy_{}'.format(name)}, inplace = True)\n",
    "\n",
    "    return df"
   ]
  },
  {
   "cell_type": "code",
   "execution_count": 17,
   "id": "89993305",
   "metadata": {},
   "outputs": [],
   "source": [
    "def f1_report(pred_list, y_test, model_name_list, name='0'):\n",
    "    \"\"\"\n",
    "    'weighted':\n",
    "     각 레이블이 불균형해도, weight를 주어 평가지표를 계산한다. \n",
    "     precision과 recall의 합이 아닌 F-score를 야기할 수 있다.\n",
    "     \n",
    "     이 때문에 classfication_report 중 weighted의 f1_score를 채택하여 사용\n",
    "    \"\"\"\n",
    "    for i in range(len(pred_list)):\n",
    "        if i == 0:\n",
    "            x = classification_report(pred_list[i], y_test, output_dict=True)\n",
    "            x = round(x['weighted avg']['f1-score'], 2)\n",
    "            x = pd.Series(x, index=[model_name_list[i]])\n",
    "            x = pd.DataFrame(x)\n",
    "        elif i != 0:\n",
    "            y = classification_report(pred_list[i], y_test, output_dict=True)\n",
    "            y = round(y['weighted avg']['f1-score'], 2)\n",
    "            y = pd.Series(y, index=[model_name_list[i]])\n",
    "            x = pd.concat([x, y], axis=0)\n",
    "    suma = x[0].sum()\n",
    "    suma = pd.Series(suma, index = ['Sum'])\n",
    "    x = round(pd.concat([x, suma], axis = 0) , 2)\n",
    "    x.rename(columns = {0: 'F1-score_{}'.format(name)}, inplace=True)\n",
    "    \n",
    "    return x"
   ]
  },
  {
   "cell_type": "markdown",
   "id": "d10c773b",
   "metadata": {},
   "source": [
    "- `'weighted': 각 레이블이 불균형해도, weight를 주어 평가지표를 계산한다. precision과 recall의 합이 아닌 F-score를 야기할 수 있다.`\n",
    "    - 위 데이터에서 확인했듯 클래스는 46개이지만 3,4번 클래스에 가장 많은 데이터가 몰려있음으로 불균형이 확연하게 눈에 띈다. 때문에 위의 평가 지표를 선택하였다."
   ]
  },
  {
   "cell_type": "code",
   "execution_count": 18,
   "id": "6e573f6e",
   "metadata": {},
   "outputs": [],
   "source": [
    "def concat_df(df1, df2, df3, df4):\n",
    "    x = pd.concat([df1, df2, df3, df4], axis=1)\n",
    "    \n",
    "    return x"
   ]
  },
  {
   "cell_type": "markdown",
   "id": "38fe3d9d",
   "metadata": {},
   "source": [
    "---\n",
    "## 3. 머신러닝 모델 학습 및 결과 확인"
   ]
  },
  {
   "cell_type": "code",
   "execution_count": 19,
   "id": "be10035a",
   "metadata": {},
   "outputs": [],
   "source": [
    "# 하이퍼 파라미터\n",
    "# 하이퍼 파라미터는 LMS와 동일하게 변경하지 않았음.\n",
    "\n",
    "param = {'spm_param' : {'C':1000, 'penalty':'l1', 'max_iter': 3000, 'dual':False, 'verbose':0, 'random_state':seed},\n",
    "         'lr_param' : {'C':10000, 'penalty':'l2', 'max_iter':3000, 'n_jobs': -1, 'verbose':0, 'random_state': seed},\n",
    "         'dt_param' : {'max_depth':10, 'random_state': seed},\n",
    "         'rf_param' : {'n_estimators':5, 'random_state':seed, 'verbose':0, 'n_jobs': -1},\n",
    "         'gb_param' : {'random_state':seed, 'verbose': 0},\n",
    "         'cnb_param' : {'norm': False}}\n",
    "                      \n",
    "class_name = ['lr', 'CNB', 'grbt'] # 보팅에 들어갈 3가지 모델\n",
    "model_name = [LogisticRegression(**param['lr_param']), \n",
    "              ComplementNB(**param['cnb_param']), \n",
    "              GradientBoostingClassifier(**param['gb_param'])] # 보팅에 사용할 3가지 모델의 이름\n",
    "param_name = ['lr_param', 'cnb_param', 'gb_param'] # 파라미터 이름\n",
    "\n",
    "model_name_list = ['Naive bayes', 'Complement Naive bayes', 'Logistic Regression', 'Support Vector Machine', \n",
    "                 'Decision Tree', 'Random Forest', 'Gradient Boosting', 'Voting']"
   ]
  },
  {
   "cell_type": "code",
   "execution_count": 20,
   "id": "4a4863bb",
   "metadata": {},
   "outputs": [],
   "source": [
    "def total_learning(x_train, x_test, y_train, y_test, class_name, model_name, param_name, param, num_words = None):\n",
    "    \n",
    "    \"\"\"\n",
    "    함수 내에서 TF-IDF로 변형하여 \n",
    "    나이브 베이즈, 컴프리먼트 나이브 베이즈, 로지스틱 회귀,\n",
    "    서포트 벡터 머신, 의사결정나무, 랜덤포레스트,\n",
    "    그래디언트 부스팅, 보팅 클래스의 머신러닝 결과를 확인할 수 있음.\n",
    "    \"\"\"\n",
    "    \n",
    "    tfidf, test_tfidf = tfidf_transformer(x_train, x_test)\n",
    "    \n",
    "    nb_acc, nb_pred = nb_class(tfidf, test_tfidf, y_train, y_test, num_words)   \n",
    "    cnb_acc, cnb_pred = cnb_class(tfidf, test_tfidf, y_train, y_test, \n",
    "                         param['cnb_param'], num_words)\n",
    "    lr_acc, lr_pred = lr_class(tfidf, test_tfidf, y_train, y_test, \n",
    "                       param['lr_param'], num_words)\n",
    "    spm_acc, spm_pred = spm_class(tfidf, test_tfidf, y_train, y_test, \n",
    "                         param['spm_param'], num_words)\n",
    "    dt_acc, dt_pred = dt_class(tfidf, test_tfidf, y_train, y_test, \n",
    "                       param['dt_param'], num_words)\n",
    "    rf_acc, rf_pred = rf_class(tfidf, test_tfidf, y_train, y_test, \n",
    "                       param['rf_param'], num_words)\n",
    "    gb_acc, gb_pred = gb_class(tfidf, test_tfidf, y_train, y_test, \n",
    "                       param['gb_param'], num_words)\n",
    "    vt_acc, vt_pred = vt_class(tfidf, test_tfidf, y_train, y_test, \n",
    "                       class_name, model_name, num_words = num_words)        \n",
    "    \n",
    "    print('===='*26)\n",
    "    \n",
    "    \"\"\"\n",
    "    결과값으로 각 모델들의 예측값을 리턴\n",
    "    \"\"\"\n",
    "    \n",
    "    return [nb_pred, cnb_pred, lr_pred, spm_pred, dt_pred, rf_pred, gb_pred, vt_pred], [nb_acc, cnb_acc, lr_acc, spm_acc, dt_acc, rf_acc, gb_acc, vt_acc]"
   ]
  },
  {
   "cell_type": "code",
   "execution_count": 21,
   "id": "743fbf77",
   "metadata": {
    "scrolled": false
   },
   "outputs": [
    {
     "name": "stdout",
     "output_type": "stream",
     "text": [
      "Train TF-IDF의 shape:  (8982, 26506)\n",
      "Test TF-IDF의 shape:  (2246, 26506)\n",
      "--------------------------------------------------------------------------------------------------------\n",
      "단어사전 None 나이브 베이즈 정확도: 59.97\n",
      "학습 종료\n",
      "--------------------------------------------------------------------------------------------------------\n",
      "단어사전 None 컴플리먼트 나이브 베이즈 정확도:  76.49000000000001\n",
      "학습 종료\n",
      "--------------------------------------------------------------------------------------------------------\n",
      "단어사전 None 로지스틱 회귀 정확도:  81.61\n",
      "학습 종료\n",
      "--------------------------------------------------------------------------------------------------------\n",
      "단어사전 None 서포트 벡터 머신 정확도:  79.07\n",
      "학습 종료\n",
      "--------------------------------------------------------------------------------------------------------\n",
      "단어사전 None 의사결정나무 정확도:  62.019999999999996\n",
      "학습 종료\n",
      "--------------------------------------------------------------------------------------------------------\n",
      "단어사전 None 랜덤 포레스트 정확도:  65.23\n",
      "학습 종료\n",
      "--------------------------------------------------------------------------------------------------------\n",
      "단어사전 None 그래디언트 부스팅 트리 정확도:  76.94\n",
      "학습 종료\n",
      "--------------------------------------------------------------------------------------------------------\n",
      "[Voting] ....................... (1 of 3) Processing lr, total= 8.7min\n",
      "[Voting] ...................... (2 of 3) Processing CNB, total=   0.1s\n",
      "[Voting] ..................... (3 of 3) Processing grbt, total=14.8min\n",
      "\n",
      "\n",
      "단어사전 None 클래스 lr , CNB, grbt 보팅 정확도:  81.75\n",
      "학습 종료\n",
      "--------------------------------------------------------------------------------------------------------\n",
      "========================================================================================================\n",
      "Train TF-IDF의 shape:  (8982, 4867)\n",
      "Test TF-IDF의 shape:  (2246, 4867)\n",
      "--------------------------------------------------------------------------------------------------------\n",
      "단어사전 5000 나이브 베이즈 정확도: 67.32000000000001\n",
      "학습 종료\n",
      "--------------------------------------------------------------------------------------------------------\n",
      "단어사전 5000 컴플리먼트 나이브 베이즈 정확도:  77.07000000000001\n",
      "학습 종료\n",
      "--------------------------------------------------------------------------------------------------------\n",
      "단어사전 5000 로지스틱 회귀 정확도:  80.32000000000001\n",
      "학습 종료\n",
      "--------------------------------------------------------------------------------------------------------\n",
      "단어사전 5000 서포트 벡터 머신 정확도:  76.89\n",
      "학습 종료\n",
      "--------------------------------------------------------------------------------------------------------\n",
      "단어사전 5000 의사결정나무 정확도:  61.980000000000004\n",
      "학습 종료\n",
      "--------------------------------------------------------------------------------------------------------\n",
      "단어사전 5000 랜덤 포레스트 정확도:  69.32000000000001\n",
      "학습 종료\n",
      "--------------------------------------------------------------------------------------------------------\n",
      "단어사전 5000 그래디언트 부스팅 트리 정확도:  76.85\n",
      "학습 종료\n",
      "--------------------------------------------------------------------------------------------------------\n",
      "[Voting] ....................... (1 of 3) Processing lr, total= 4.3min\n",
      "[Voting] ...................... (2 of 3) Processing CNB, total=   0.0s\n",
      "[Voting] ..................... (3 of 3) Processing grbt, total=14.1min\n",
      "\n",
      "\n",
      "단어사전 5000 클래스 lr , CNB, grbt 보팅 정확도:  81.43\n",
      "학습 종료\n",
      "--------------------------------------------------------------------------------------------------------\n",
      "========================================================================================================\n",
      "Train TF-IDF의 shape:  (8982, 9670)\n",
      "Test TF-IDF의 shape:  (2246, 9670)\n",
      "--------------------------------------------------------------------------------------------------------\n",
      "단어사전 10000 나이브 베이즈 정확도: 65.67\n",
      "학습 종료\n",
      "--------------------------------------------------------------------------------------------------------\n",
      "단어사전 10000 컴플리먼트 나이브 베이즈 정확도:  77.07000000000001\n",
      "학습 종료\n",
      "--------------------------------------------------------------------------------------------------------\n",
      "단어사전 10000 로지스틱 회귀 정확도:  81.03\n",
      "학습 종료\n",
      "--------------------------------------------------------------------------------------------------------\n",
      "단어사전 10000 서포트 벡터 머신 정확도:  78.18\n",
      "학습 종료\n",
      "--------------------------------------------------------------------------------------------------------\n",
      "단어사전 10000 의사결정나무 정확도:  62.2\n",
      "학습 종료\n",
      "--------------------------------------------------------------------------------------------------------\n",
      "단어사전 10000 랜덤 포레스트 정확도:  67.75999999999999\n",
      "학습 종료\n",
      "--------------------------------------------------------------------------------------------------------\n",
      "단어사전 10000 그래디언트 부스팅 트리 정확도:  77.07000000000001\n",
      "학습 종료\n",
      "--------------------------------------------------------------------------------------------------------\n",
      "[Voting] ....................... (1 of 3) Processing lr, total= 4.4min\n",
      "[Voting] ...................... (2 of 3) Processing CNB, total=   0.0s\n",
      "[Voting] ..................... (3 of 3) Processing grbt, total=14.2min\n",
      "\n",
      "\n",
      "단어사전 10000 클래스 lr , CNB, grbt 보팅 정확도:  81.43\n",
      "학습 종료\n",
      "--------------------------------------------------------------------------------------------------------\n",
      "========================================================================================================\n",
      "Train TF-IDF의 shape:  (8982, 14227)\n",
      "Test TF-IDF의 shape:  (2246, 14227)\n",
      "--------------------------------------------------------------------------------------------------------\n",
      "단어사전 15000 나이브 베이즈 정확도: 63.31\n",
      "학습 종료\n",
      "--------------------------------------------------------------------------------------------------------\n",
      "단어사전 15000 컴플리먼트 나이브 베이즈 정확도:  77.2\n",
      "학습 종료\n",
      "--------------------------------------------------------------------------------------------------------\n",
      "단어사전 15000 로지스틱 회귀 정확도:  81.52000000000001\n",
      "학습 종료\n",
      "--------------------------------------------------------------------------------------------------------\n",
      "단어사전 15000 서포트 벡터 머신 정확도:  78.94\n",
      "학습 종료\n",
      "--------------------------------------------------------------------------------------------------------\n",
      "단어사전 15000 의사결정나무 정확도:  61.839999999999996\n",
      "학습 종료\n",
      "--------------------------------------------------------------------------------------------------------\n",
      "단어사전 15000 랜덤 포레스트 정확도:  67.41\n",
      "학습 종료\n",
      "--------------------------------------------------------------------------------------------------------\n",
      "단어사전 15000 그래디언트 부스팅 트리 정확도:  76.63\n",
      "학습 종료\n",
      "--------------------------------------------------------------------------------------------------------\n",
      "[Voting] ....................... (1 of 3) Processing lr, total= 6.3min\n",
      "[Voting] ...................... (2 of 3) Processing CNB, total=   0.0s\n",
      "[Voting] ..................... (3 of 3) Processing grbt, total=14.3min\n",
      "\n",
      "\n",
      "단어사전 15000 클래스 lr , CNB, grbt 보팅 정확도:  81.17\n",
      "학습 종료\n",
      "--------------------------------------------------------------------------------------------------------\n",
      "========================================================================================================\n"
     ]
    }
   ],
   "source": [
    "pred_list_all, acc_list_all = total_learning(x_train_all, x_test_all, y_train_all, y_test_all, class_name, model_name, param_name, param, num_words = None)\n",
    "pred_list_5000, acc_list_5000 = total_learning(x_train_5000, x_test_5000, y_train_5000, y_test_5000, class_name, model_name, param_name, param, num_words = 5000)\n",
    "pred_list_10000, acc_list_10000 = total_learning(x_train_10000, x_test_10000, y_train_10000, y_test_10000, class_name, model_name, param_name, param, num_words = 10000)\n",
    "pred_list_15000, acc_list_15000 = total_learning(x_train_15000, x_test_15000, y_train_15000, y_test_15000, class_name, model_name, param_name, param, num_words = 15000)"
   ]
  },
  {
   "cell_type": "code",
   "execution_count": 52,
   "id": "5f32310d",
   "metadata": {},
   "outputs": [
    {
     "data": {
      "text/html": [
       "<div>\n",
       "<style scoped>\n",
       "    .dataframe tbody tr th:only-of-type {\n",
       "        vertical-align: middle;\n",
       "    }\n",
       "\n",
       "    .dataframe tbody tr th {\n",
       "        vertical-align: top;\n",
       "    }\n",
       "\n",
       "    .dataframe thead th {\n",
       "        text-align: right;\n",
       "    }\n",
       "</style>\n",
       "<table border=\"1\" class=\"dataframe\">\n",
       "  <thead>\n",
       "    <tr style=\"text-align: right;\">\n",
       "      <th></th>\n",
       "      <th>Accuracy_5000</th>\n",
       "      <th>Accuracy_10000</th>\n",
       "      <th>Accuracy_15000</th>\n",
       "      <th>Accuracy_All</th>\n",
       "    </tr>\n",
       "  </thead>\n",
       "  <tbody>\n",
       "    <tr>\n",
       "      <th>Naive bayes</th>\n",
       "      <td>67.32</td>\n",
       "      <td>65.67</td>\n",
       "      <td>63.31</td>\n",
       "      <td>59.97</td>\n",
       "    </tr>\n",
       "    <tr>\n",
       "      <th>Complement Naive bayes</th>\n",
       "      <td>77.07</td>\n",
       "      <td>77.07</td>\n",
       "      <td>77.20</td>\n",
       "      <td>76.49</td>\n",
       "    </tr>\n",
       "    <tr>\n",
       "      <th>Logistic Regression</th>\n",
       "      <td>80.32</td>\n",
       "      <td>81.03</td>\n",
       "      <td>81.52</td>\n",
       "      <td>81.61</td>\n",
       "    </tr>\n",
       "    <tr>\n",
       "      <th>Support Vector Machine</th>\n",
       "      <td>76.89</td>\n",
       "      <td>78.18</td>\n",
       "      <td>78.94</td>\n",
       "      <td>79.07</td>\n",
       "    </tr>\n",
       "    <tr>\n",
       "      <th>Decision Tree</th>\n",
       "      <td>61.98</td>\n",
       "      <td>62.20</td>\n",
       "      <td>61.84</td>\n",
       "      <td>62.02</td>\n",
       "    </tr>\n",
       "    <tr>\n",
       "      <th>Random Forest</th>\n",
       "      <td>69.32</td>\n",
       "      <td>67.76</td>\n",
       "      <td>67.41</td>\n",
       "      <td>65.23</td>\n",
       "    </tr>\n",
       "    <tr>\n",
       "      <th>Gradient Boosting</th>\n",
       "      <td>76.85</td>\n",
       "      <td>77.07</td>\n",
       "      <td>76.63</td>\n",
       "      <td>76.94</td>\n",
       "    </tr>\n",
       "    <tr>\n",
       "      <th>Voting</th>\n",
       "      <td>81.43</td>\n",
       "      <td>81.43</td>\n",
       "      <td>81.17</td>\n",
       "      <td>81.75</td>\n",
       "    </tr>\n",
       "    <tr>\n",
       "      <th>Sum</th>\n",
       "      <td>591.18</td>\n",
       "      <td>590.41</td>\n",
       "      <td>588.02</td>\n",
       "      <td>583.08</td>\n",
       "    </tr>\n",
       "  </tbody>\n",
       "</table>\n",
       "</div>"
      ],
      "text/plain": [
       "                        Accuracy_5000  Accuracy_10000  Accuracy_15000  \\\n",
       "Naive bayes                     67.32           65.67           63.31   \n",
       "Complement Naive bayes          77.07           77.07           77.20   \n",
       "Logistic Regression             80.32           81.03           81.52   \n",
       "Support Vector Machine          76.89           78.18           78.94   \n",
       "Decision Tree                   61.98           62.20           61.84   \n",
       "Random Forest                   69.32           67.76           67.41   \n",
       "Gradient Boosting               76.85           77.07           76.63   \n",
       "Voting                          81.43           81.43           81.17   \n",
       "Sum                            591.18          590.41          588.02   \n",
       "\n",
       "                        Accuracy_All  \n",
       "Naive bayes                    59.97  \n",
       "Complement Naive bayes         76.49  \n",
       "Logistic Regression            81.61  \n",
       "Support Vector Machine         79.07  \n",
       "Decision Tree                  62.02  \n",
       "Random Forest                  65.23  \n",
       "Gradient Boosting              76.94  \n",
       "Voting                         81.75  \n",
       "Sum                           583.08  "
      ]
     },
     "execution_count": 52,
     "metadata": {},
     "output_type": "execute_result"
    }
   ],
   "source": [
    "df1 = df_result(acc_list_5000, model_name_list, name='5000')\n",
    "df2 = df_result(acc_list_10000, model_name_list, name='10000')\n",
    "df3 = df_result(acc_list_15000, model_name_list, name='15000')\n",
    "df4 = df_result(acc_list_all, model_name_list, name='All')\n",
    "f1 = f1_report(pred_list_5000, y_test_5000, model_name_list, name='5000')\n",
    "f2 = f1_report(pred_list_10000, y_test_10000, model_name_list, name='10000')\n",
    "f3 = f1_report(pred_list_15000, y_test_15000, model_name_list, name='15000')\n",
    "f4 = f1_report(pred_list_all, y_test_all, model_name_list, name='All')\n",
    "\n",
    "acc_df = concat_df(df1, df2, df3, df4)\n",
    "f1_df = concat_df(f1, f2, f3, f4)\n",
    "\n",
    "acc_df"
   ]
  },
  {
   "cell_type": "code",
   "execution_count": 23,
   "id": "44e6d903",
   "metadata": {},
   "outputs": [
    {
     "data": {
      "text/html": [
       "<div>\n",
       "<style scoped>\n",
       "    .dataframe tbody tr th:only-of-type {\n",
       "        vertical-align: middle;\n",
       "    }\n",
       "\n",
       "    .dataframe tbody tr th {\n",
       "        vertical-align: top;\n",
       "    }\n",
       "\n",
       "    .dataframe thead th {\n",
       "        text-align: right;\n",
       "    }\n",
       "</style>\n",
       "<table border=\"1\" class=\"dataframe\">\n",
       "  <thead>\n",
       "    <tr style=\"text-align: right;\">\n",
       "      <th></th>\n",
       "      <th>F1-score_5000</th>\n",
       "      <th>F1-score_10000</th>\n",
       "      <th>F1-score_15000</th>\n",
       "      <th>F1-score_All</th>\n",
       "    </tr>\n",
       "  </thead>\n",
       "  <tbody>\n",
       "    <tr>\n",
       "      <th>Naive bayes</th>\n",
       "      <td>0.75</td>\n",
       "      <td>0.74</td>\n",
       "      <td>0.72</td>\n",
       "      <td>0.69</td>\n",
       "    </tr>\n",
       "    <tr>\n",
       "      <th>Complement Naive bayes</th>\n",
       "      <td>0.80</td>\n",
       "      <td>0.80</td>\n",
       "      <td>0.80</td>\n",
       "      <td>0.80</td>\n",
       "    </tr>\n",
       "    <tr>\n",
       "      <th>Logistic Regression</th>\n",
       "      <td>0.81</td>\n",
       "      <td>0.82</td>\n",
       "      <td>0.82</td>\n",
       "      <td>0.82</td>\n",
       "    </tr>\n",
       "    <tr>\n",
       "      <th>Support Vector Machine</th>\n",
       "      <td>0.77</td>\n",
       "      <td>0.79</td>\n",
       "      <td>0.79</td>\n",
       "      <td>0.79</td>\n",
       "    </tr>\n",
       "    <tr>\n",
       "      <th>Decision Tree</th>\n",
       "      <td>0.67</td>\n",
       "      <td>0.67</td>\n",
       "      <td>0.66</td>\n",
       "      <td>0.66</td>\n",
       "    </tr>\n",
       "    <tr>\n",
       "      <th>Random Forest</th>\n",
       "      <td>0.72</td>\n",
       "      <td>0.71</td>\n",
       "      <td>0.70</td>\n",
       "      <td>0.68</td>\n",
       "    </tr>\n",
       "    <tr>\n",
       "      <th>Gradient Boosting</th>\n",
       "      <td>0.77</td>\n",
       "      <td>0.77</td>\n",
       "      <td>0.77</td>\n",
       "      <td>0.77</td>\n",
       "    </tr>\n",
       "    <tr>\n",
       "      <th>Voting</th>\n",
       "      <td>0.82</td>\n",
       "      <td>0.82</td>\n",
       "      <td>0.81</td>\n",
       "      <td>0.82</td>\n",
       "    </tr>\n",
       "    <tr>\n",
       "      <th>Sum</th>\n",
       "      <td>6.11</td>\n",
       "      <td>6.12</td>\n",
       "      <td>6.07</td>\n",
       "      <td>6.03</td>\n",
       "    </tr>\n",
       "  </tbody>\n",
       "</table>\n",
       "</div>"
      ],
      "text/plain": [
       "                        F1-score_5000  F1-score_10000  F1-score_15000  \\\n",
       "Naive bayes                      0.75            0.74            0.72   \n",
       "Complement Naive bayes           0.80            0.80            0.80   \n",
       "Logistic Regression              0.81            0.82            0.82   \n",
       "Support Vector Machine           0.77            0.79            0.79   \n",
       "Decision Tree                    0.67            0.67            0.66   \n",
       "Random Forest                    0.72            0.71            0.70   \n",
       "Gradient Boosting                0.77            0.77            0.77   \n",
       "Voting                           0.82            0.82            0.81   \n",
       "Sum                              6.11            6.12            6.07   \n",
       "\n",
       "                        F1-score_All  \n",
       "Naive bayes                     0.69  \n",
       "Complement Naive bayes          0.80  \n",
       "Logistic Regression             0.82  \n",
       "Support Vector Machine          0.79  \n",
       "Decision Tree                   0.66  \n",
       "Random Forest                   0.68  \n",
       "Gradient Boosting               0.77  \n",
       "Voting                          0.82  \n",
       "Sum                             6.03  "
      ]
     },
     "execution_count": 23,
     "metadata": {},
     "output_type": "execute_result"
    }
   ],
   "source": [
    "f1_df"
   ]
  },
  {
   "cell_type": "code",
   "execution_count": 24,
   "id": "6327ae45",
   "metadata": {},
   "outputs": [
    {
     "data": {
      "image/png": "[encoded data removed]",
      "text/plain": [
       "<Figure size 864x576 with 1 Axes>"
      ]
     },
     "metadata": {
      "needs_background": "light"
     },
     "output_type": "display_data"
    }
   ],
   "source": [
    "acc_df_T = acc_df.T\n",
    "\n",
    "plt.figure(figsize=(12,8))\n",
    "ax = sns.barplot(data=acc_df_T, x=acc_df_T.index, y= 'Sum')\n",
    "\n",
    "containers = ax.containers[0]\n",
    "ax.bar_label(containers, labels=[f'{x:,.2f}' for x in containers.datavalues], label_type='center', fontsize=15)\n",
    "plt.title('Machine Learning result sum')\n",
    "\n",
    "plt.show()"
   ]
  },
  {
   "cell_type": "code",
   "execution_count": 25,
   "id": "491acce7",
   "metadata": {},
   "outputs": [
    {
     "data": {
      "image/png": "[encoded data removed]",
      "text/plain": [
       "<Figure size 864x576 with 1 Axes>"
      ]
     },
     "metadata": {
      "needs_background": "light"
     },
     "output_type": "display_data"
    }
   ],
   "source": [
    "f1_df_T = f1_df.T\n",
    "\n",
    "plt.figure(figsize=(12,8))\n",
    "ax = sns.barplot(data=f1_df_T, x=f1_df_T.index, y= 'Sum')\n",
    "\n",
    "containers = ax.containers[0]\n",
    "ax.bar_label(containers, labels=[f'{x:,.2f}' for x in containers.datavalues], label_type='center', fontsize=15)\n",
    "plt.title('Machine Learning result sum')\n",
    "\n",
    "plt.show()"
   ]
  },
  {
   "cell_type": "markdown",
   "id": "00703dbc",
   "metadata": {},
   "source": [
    "- 위 결과에서 보듯 `num_words = 5000` 이 가장 좋은 성능을 보였다고 판단 가능할듯 하여 아래 딥러닝에서도 채택하여 같은 vocab_size로 비교해보겠음."
   ]
  },
  {
   "cell_type": "markdown",
   "id": "dc0bae2d",
   "metadata": {},
   "source": [
    "---\n",
    "## 4. 딥러닝 모델 정의하기"
   ]
  },
  {
   "cell_type": "code",
   "execution_count": 26,
   "id": "39934c2e",
   "metadata": {},
   "outputs": [],
   "source": [
    "(x_train, y_train), (x_test, y_test) = reuters.load_data(num_words=5000, test_split=0.2)"
   ]
  },
  {
   "cell_type": "code",
   "execution_count": 27,
   "id": "7125ba3d",
   "metadata": {},
   "outputs": [],
   "source": [
    "x_train = pad_sequences(x_train, padding='post')\n",
    "x_test = pad_sequences(x_test, padding='post')"
   ]
  },
  {
   "cell_type": "code",
   "execution_count": 28,
   "id": "151f9aaf",
   "metadata": {},
   "outputs": [],
   "source": [
    "x_train, x_val, y_train, y_val = train_test_split(x_train,\n",
    "                                                  y_train, \n",
    "                                                  random_state = seed,\n",
    "                                                  test_size=0.2)"
   ]
  },
  {
   "cell_type": "code",
   "execution_count": 29,
   "id": "3040ab2f",
   "metadata": {},
   "outputs": [
    {
     "name": "stdout",
     "output_type": "stream",
     "text": [
      " 훈련 데이터셋의 길이:  7185 \n",
      " 벨리데이션 데이터셋의 길이:  1797\n",
      "--------------------------------------------------------------------------------------------------------------------------------\n",
      " 훈련 라벨데이터셋의 길이:  7185 \n",
      " 벨리데이션 라벨데이터셋의 길이:  1797\n",
      "--------------------------------------------------------------------------------------------------------------------------------\n"
     ]
    }
   ],
   "source": [
    "print(' 훈련 데이터셋의 길이: ',len(x_train),'\\n', '벨리데이션 데이터셋의 길이: ', len(x_val))\n",
    "print('----'*32)\n",
    "print(' 훈련 라벨데이터셋의 길이: ', len(y_train), '\\n', '벨리데이션 라벨데이터셋의 길이: ', len(y_val))\n",
    "print('----'*32)"
   ]
  },
  {
   "cell_type": "markdown",
   "id": "c9c0c22e",
   "metadata": {},
   "source": [
    "---\n",
    "## 5. 딥러닝 모델 학습 및 결과 확인"
   ]
  },
  {
   "cell_type": "code",
   "execution_count": 33,
   "id": "a4719fce",
   "metadata": {},
   "outputs": [],
   "source": [
    "# 하이퍼 파라미터\n",
    "vocab_size = 5000\n",
    "embedding_size = 128\n",
    "batch_size = 16\n",
    "units = 64\n",
    "epochs = 100\n",
    "drop_rate = 0.5\n",
    "\n",
    "# optimizer\n",
    "learning_rate = 0.001\n",
    "optim_adam = Adam(learning_rate = learning_rate)\n",
    "\n",
    "# metrics\n",
    "num_classes = 46\n",
    "from_logits = False\n",
    "average = 'weighted'\n",
    "\n",
    "losses_scc = SparseCategoricalCrossentropy(from_logits = from_logits)\n",
    "f1_score = F1Score(num_classes = num_classes, average = average)"
   ]
  },
  {
   "cell_type": "code",
   "execution_count": 34,
   "id": "337f2384",
   "metadata": {},
   "outputs": [],
   "source": [
    "class model(keras.Model):\n",
    "    def __init__(self, vocab_size, embedding_size, units, drop_rate):\n",
    "        super().__init__()\n",
    "        self.Embedding = Embedding(vocab_size, embedding_size, mask_zero=True)\n",
    "        self.lstm1 = Bidirectional(LSTM(units, return_sequences = True, activation='tanh', dropout=drop_rate))\n",
    "        self.batch1 = BatchNormalization()\n",
    "        self.drop1 = Dropout(drop_rate)\n",
    "        self.lstm2 = Bidirectional(LSTM(units*2, activation='tanh', dropout=drop_rate))\n",
    "        self.batch2 = BatchNormalization()\n",
    "        self.drop2 = Dropout(drop_rate)            \n",
    "        self.dense = Dense(46, activation='softmax')\n",
    "        \n",
    "    def call(self, x):\n",
    "        x = self.Embedding(x)\n",
    "        x = self.lstm1(x)\n",
    "        x = self.batch1(x)\n",
    "        x = self.drop1(x)\n",
    "        x = self.lstm2(x)\n",
    "        x = self.batch2(x)\n",
    "        x = self.drop2(x)       \n",
    "        x = self.dense(x)\n",
    "        \n",
    "        return x"
   ]
  },
  {
   "cell_type": "code",
   "execution_count": 35,
   "id": "c5f2fe03",
   "metadata": {},
   "outputs": [
    {
     "name": "stdout",
     "output_type": "stream",
     "text": [
      "Epoch 1/100\n",
      "450/450 [==============================] - 56s 93ms/step - loss: 2.2519 - accuracy: 0.5478 - val_loss: 1.3960 - val_accuracy: 0.6934\n",
      "Epoch 2/100\n",
      "450/450 [==============================] - 38s 84ms/step - loss: 1.3729 - accuracy: 0.7070 - val_loss: 1.1301 - val_accuracy: 0.7490\n",
      "Epoch 3/100\n",
      "450/450 [==============================] - 38s 85ms/step - loss: 1.0661 - accuracy: 0.7594 - val_loss: 1.2688 - val_accuracy: 0.7501\n",
      "Epoch 4/100\n",
      "450/450 [==============================] - 38s 83ms/step - loss: 0.8962 - accuracy: 0.7955 - val_loss: 1.0434 - val_accuracy: 0.7769\n",
      "Epoch 5/100\n",
      "450/450 [==============================] - 38s 83ms/step - loss: 0.7287 - accuracy: 0.8284 - val_loss: 1.0538 - val_accuracy: 0.7969\n",
      "Epoch 6/100\n",
      "450/450 [==============================] - 37s 83ms/step - loss: 0.6376 - accuracy: 0.8502 - val_loss: 1.1182 - val_accuracy: 0.7885\n",
      "Epoch 7/100\n",
      "450/450 [==============================] - 37s 83ms/step - loss: 0.5889 - accuracy: 0.8571 - val_loss: 1.3187 - val_accuracy: 0.7663\n",
      "Epoch 8/100\n",
      "450/450 [==============================] - 37s 83ms/step - loss: 0.5575 - accuracy: 0.8654 - val_loss: 1.0438 - val_accuracy: 0.8108\n",
      "Epoch 9/100\n",
      "450/450 [==============================] - 38s 84ms/step - loss: 0.4715 - accuracy: 0.8831 - val_loss: 1.0571 - val_accuracy: 0.8158\n",
      "Epoch 00009: early stopping\n"
     ]
    }
   ],
   "source": [
    "model = model(vocab_size, embedding_size, units, drop_rate)\n",
    "\n",
    "model.compile(optimizer=optim_adam,\n",
    "              loss=losses_scc,\n",
    "              metrics=['accuracy'])\n",
    "\n",
    "es = EarlyStopping(monitor='val_loss', patience=5, verbose=1)\n",
    "\n",
    "history = model.fit(x_train, y_train, batch_size=batch_size,\n",
    "                    verbose='auto', epochs=epochs,\n",
    "                    validation_data=(x_val, y_val), callbacks=[es])"
   ]
  },
  {
   "cell_type": "code",
   "execution_count": 36,
   "id": "649dd031",
   "metadata": {},
   "outputs": [
    {
     "name": "stdout",
     "output_type": "stream",
     "text": [
      "71/71 - 6s - loss: 1.1190 - accuracy: 0.7996\n"
     ]
    }
   ],
   "source": [
    "test_acc = model.evaluate(x_test, y_test, verbose=2)"
   ]
  },
  {
   "cell_type": "markdown",
   "id": "cf6e8a74",
   "metadata": {},
   "source": [
    "- 약 80% 정도의 정확도를 보여준다."
   ]
  },
  {
   "cell_type": "code",
   "execution_count": 37,
   "id": "c1312b6b",
   "metadata": {},
   "outputs": [
    {
     "data": {
      "image/png": "[encoded data removed]",
      "text/plain": [
       "<Figure size 432x288 with 1 Axes>"
      ]
     },
     "metadata": {
      "needs_background": "light"
     },
     "output_type": "display_data"
    }
   ],
   "source": [
    "history_dict = history.history\n",
    "\n",
    "acc = history_dict['accuracy']\n",
    "val_acc = history_dict['val_accuracy']\n",
    "loss = history_dict['loss']\n",
    "val_loss = history_dict['val_loss']\n",
    "\n",
    "epoch = range(1, len( acc) + 1)\n",
    "\n",
    "plt.plot(epoch, loss, 'r', label='Training loss')\n",
    "plt.plot(epoch, val_loss, 'b', label='Validation loss')\n",
    "plt.title('Model Loss graph')\n",
    "plt.xlabel('Epochs')\n",
    "plt.ylabel('Loss')\n",
    "plt.legend()\n",
    "\n",
    "plt.show()"
   ]
  },
  {
   "cell_type": "code",
   "execution_count": 38,
   "id": "9bc1356f",
   "metadata": {},
   "outputs": [
    {
     "data": {
      "image/png": "[encoded data removed]",
      "text/plain": [
       "<Figure size 432x288 with 1 Axes>"
      ]
     },
     "metadata": {
      "needs_background": "light"
     },
     "output_type": "display_data"
    }
   ],
   "source": [
    "plt.plot(epoch, acc, 'b', label='Training acc')\n",
    "plt.plot(epoch, val_acc, 'r', label='Validation acc')\n",
    "plt.title('Model Accuracy graph')\n",
    "plt.xlabel('Epochs')\n",
    "plt.ylabel('Accuracy')\n",
    "plt.legend()\n",
    "\n",
    "plt.show()"
   ]
  },
  {
   "cell_type": "markdown",
   "id": "43316e2e",
   "metadata": {},
   "source": [
    "- 어느정도 overfitting 문제가 존재하나 치우친 데이터셋의 한계인 것으로 보임."
   ]
  },
  {
   "cell_type": "code",
   "execution_count": 44,
   "id": "2fa6c3a6",
   "metadata": {},
   "outputs": [],
   "source": [
    "def deep_f1_df(model, x_test, y_test):\n",
    "    y_test = to_categorical(y_test)\n",
    "    y_pred = model.predict(x_test)\n",
    "    f1 = F1Score(num_classes=46, average='weighted')\n",
    "    f1.update_state(y_test, y_pred)\n",
    "    f1 = f1.result()\n",
    "    f1 = f1.numpy()\n",
    "    \n",
    "    f1 = pd.Series(f1, index=['F1 Score'])\n",
    "    f1 = pd.DataFrame(f1)\n",
    "    \n",
    "    return f1"
   ]
  },
  {
   "cell_type": "code",
   "execution_count": 45,
   "id": "838a6859",
   "metadata": {},
   "outputs": [],
   "source": [
    "def acc_df(acc, name='Accuracy'):\n",
    "    x = acc[-1]\n",
    "    x = pd.Series(x, index=[name])\n",
    "    x = pd.DataFrame(x)\n",
    "    \n",
    "    return x"
   ]
  },
  {
   "cell_type": "code",
   "execution_count": 46,
   "id": "5ced9417",
   "metadata": {},
   "outputs": [],
   "source": [
    "deep_f1_df = deep_f1_df(model, x_test, y_test)\n",
    "df_acc = acc_df(acc)\n",
    "df_val = acc_df(val_acc, 'Val Accuracy')\n",
    "df_test = acc_df(test_acc, 'Test Accuracy')\n",
    "\n",
    "fin_df = pd.concat([deep_f1_df, df_acc, df_val, df_test], axis=0)\n",
    "fin_df.rename(columns={0: 'model_5000'}, inplace = True)"
   ]
  },
  {
   "cell_type": "code",
   "execution_count": 53,
   "id": "a79ec05d",
   "metadata": {},
   "outputs": [
    {
     "data": {
      "text/html": [
       "<div>\n",
       "<style scoped>\n",
       "    .dataframe tbody tr th:only-of-type {\n",
       "        vertical-align: middle;\n",
       "    }\n",
       "\n",
       "    .dataframe tbody tr th {\n",
       "        vertical-align: top;\n",
       "    }\n",
       "\n",
       "    .dataframe thead th {\n",
       "        text-align: right;\n",
       "    }\n",
       "</style>\n",
       "<table border=\"1\" class=\"dataframe\">\n",
       "  <thead>\n",
       "    <tr style=\"text-align: right;\">\n",
       "      <th></th>\n",
       "      <th>Accuracy_5000</th>\n",
       "      <th>Accuracy_10000</th>\n",
       "      <th>Accuracy_15000</th>\n",
       "      <th>Accuracy_All</th>\n",
       "    </tr>\n",
       "  </thead>\n",
       "  <tbody>\n",
       "    <tr>\n",
       "      <th>Naive bayes</th>\n",
       "      <td>67.32</td>\n",
       "      <td>65.67</td>\n",
       "      <td>63.31</td>\n",
       "      <td>59.97</td>\n",
       "    </tr>\n",
       "    <tr>\n",
       "      <th>Complement Naive bayes</th>\n",
       "      <td>77.07</td>\n",
       "      <td>77.07</td>\n",
       "      <td>77.20</td>\n",
       "      <td>76.49</td>\n",
       "    </tr>\n",
       "    <tr>\n",
       "      <th>Logistic Regression</th>\n",
       "      <td>80.32</td>\n",
       "      <td>81.03</td>\n",
       "      <td>81.52</td>\n",
       "      <td>81.61</td>\n",
       "    </tr>\n",
       "    <tr>\n",
       "      <th>Support Vector Machine</th>\n",
       "      <td>76.89</td>\n",
       "      <td>78.18</td>\n",
       "      <td>78.94</td>\n",
       "      <td>79.07</td>\n",
       "    </tr>\n",
       "    <tr>\n",
       "      <th>Decision Tree</th>\n",
       "      <td>61.98</td>\n",
       "      <td>62.20</td>\n",
       "      <td>61.84</td>\n",
       "      <td>62.02</td>\n",
       "    </tr>\n",
       "    <tr>\n",
       "      <th>Random Forest</th>\n",
       "      <td>69.32</td>\n",
       "      <td>67.76</td>\n",
       "      <td>67.41</td>\n",
       "      <td>65.23</td>\n",
       "    </tr>\n",
       "    <tr>\n",
       "      <th>Gradient Boosting</th>\n",
       "      <td>76.85</td>\n",
       "      <td>77.07</td>\n",
       "      <td>76.63</td>\n",
       "      <td>76.94</td>\n",
       "    </tr>\n",
       "    <tr>\n",
       "      <th>Voting</th>\n",
       "      <td>81.43</td>\n",
       "      <td>81.43</td>\n",
       "      <td>81.17</td>\n",
       "      <td>81.75</td>\n",
       "    </tr>\n",
       "    <tr>\n",
       "      <th>Sum</th>\n",
       "      <td>591.18</td>\n",
       "      <td>590.41</td>\n",
       "      <td>588.02</td>\n",
       "      <td>583.08</td>\n",
       "    </tr>\n",
       "  </tbody>\n",
       "</table>\n",
       "</div>"
      ],
      "text/plain": [
       "                        Accuracy_5000  Accuracy_10000  Accuracy_15000  \\\n",
       "Naive bayes                     67.32           65.67           63.31   \n",
       "Complement Naive bayes          77.07           77.07           77.20   \n",
       "Logistic Regression             80.32           81.03           81.52   \n",
       "Support Vector Machine          76.89           78.18           78.94   \n",
       "Decision Tree                   61.98           62.20           61.84   \n",
       "Random Forest                   69.32           67.76           67.41   \n",
       "Gradient Boosting               76.85           77.07           76.63   \n",
       "Voting                          81.43           81.43           81.17   \n",
       "Sum                            591.18          590.41          588.02   \n",
       "\n",
       "                        Accuracy_All  \n",
       "Naive bayes                    59.97  \n",
       "Complement Naive bayes         76.49  \n",
       "Logistic Regression            81.61  \n",
       "Support Vector Machine         79.07  \n",
       "Decision Tree                  62.02  \n",
       "Random Forest                  65.23  \n",
       "Gradient Boosting              76.94  \n",
       "Voting                         81.75  \n",
       "Sum                           583.08  "
      ]
     },
     "execution_count": 53,
     "metadata": {},
     "output_type": "execute_result"
    }
   ],
   "source": [
    "acc_df # 머신러닝 Accuracy 데이터 프레임"
   ]
  },
  {
   "cell_type": "code",
   "execution_count": 50,
   "id": "2e400170",
   "metadata": {},
   "outputs": [
    {
     "data": {
      "text/html": [
       "<div>\n",
       "<style scoped>\n",
       "    .dataframe tbody tr th:only-of-type {\n",
       "        vertical-align: middle;\n",
       "    }\n",
       "\n",
       "    .dataframe tbody tr th {\n",
       "        vertical-align: top;\n",
       "    }\n",
       "\n",
       "    .dataframe thead th {\n",
       "        text-align: right;\n",
       "    }\n",
       "</style>\n",
       "<table border=\"1\" class=\"dataframe\">\n",
       "  <thead>\n",
       "    <tr style=\"text-align: right;\">\n",
       "      <th></th>\n",
       "      <th>F1-score_5000</th>\n",
       "      <th>F1-score_10000</th>\n",
       "      <th>F1-score_15000</th>\n",
       "      <th>F1-score_All</th>\n",
       "    </tr>\n",
       "  </thead>\n",
       "  <tbody>\n",
       "    <tr>\n",
       "      <th>Naive bayes</th>\n",
       "      <td>0.75</td>\n",
       "      <td>0.74</td>\n",
       "      <td>0.72</td>\n",
       "      <td>0.69</td>\n",
       "    </tr>\n",
       "    <tr>\n",
       "      <th>Complement Naive bayes</th>\n",
       "      <td>0.80</td>\n",
       "      <td>0.80</td>\n",
       "      <td>0.80</td>\n",
       "      <td>0.80</td>\n",
       "    </tr>\n",
       "    <tr>\n",
       "      <th>Logistic Regression</th>\n",
       "      <td>0.81</td>\n",
       "      <td>0.82</td>\n",
       "      <td>0.82</td>\n",
       "      <td>0.82</td>\n",
       "    </tr>\n",
       "    <tr>\n",
       "      <th>Support Vector Machine</th>\n",
       "      <td>0.77</td>\n",
       "      <td>0.79</td>\n",
       "      <td>0.79</td>\n",
       "      <td>0.79</td>\n",
       "    </tr>\n",
       "    <tr>\n",
       "      <th>Decision Tree</th>\n",
       "      <td>0.67</td>\n",
       "      <td>0.67</td>\n",
       "      <td>0.66</td>\n",
       "      <td>0.66</td>\n",
       "    </tr>\n",
       "    <tr>\n",
       "      <th>Random Forest</th>\n",
       "      <td>0.72</td>\n",
       "      <td>0.71</td>\n",
       "      <td>0.70</td>\n",
       "      <td>0.68</td>\n",
       "    </tr>\n",
       "    <tr>\n",
       "      <th>Gradient Boosting</th>\n",
       "      <td>0.77</td>\n",
       "      <td>0.77</td>\n",
       "      <td>0.77</td>\n",
       "      <td>0.77</td>\n",
       "    </tr>\n",
       "    <tr>\n",
       "      <th>Voting</th>\n",
       "      <td>0.82</td>\n",
       "      <td>0.82</td>\n",
       "      <td>0.81</td>\n",
       "      <td>0.82</td>\n",
       "    </tr>\n",
       "    <tr>\n",
       "      <th>Sum</th>\n",
       "      <td>6.11</td>\n",
       "      <td>6.12</td>\n",
       "      <td>6.07</td>\n",
       "      <td>6.03</td>\n",
       "    </tr>\n",
       "  </tbody>\n",
       "</table>\n",
       "</div>"
      ],
      "text/plain": [
       "                        F1-score_5000  F1-score_10000  F1-score_15000  \\\n",
       "Naive bayes                      0.75            0.74            0.72   \n",
       "Complement Naive bayes           0.80            0.80            0.80   \n",
       "Logistic Regression              0.81            0.82            0.82   \n",
       "Support Vector Machine           0.77            0.79            0.79   \n",
       "Decision Tree                    0.67            0.67            0.66   \n",
       "Random Forest                    0.72            0.71            0.70   \n",
       "Gradient Boosting                0.77            0.77            0.77   \n",
       "Voting                           0.82            0.82            0.81   \n",
       "Sum                              6.11            6.12            6.07   \n",
       "\n",
       "                        F1-score_All  \n",
       "Naive bayes                     0.69  \n",
       "Complement Naive bayes          0.80  \n",
       "Logistic Regression             0.82  \n",
       "Support Vector Machine          0.79  \n",
       "Decision Tree                   0.66  \n",
       "Random Forest                   0.68  \n",
       "Gradient Boosting               0.77  \n",
       "Voting                          0.82  \n",
       "Sum                             6.03  "
      ]
     },
     "execution_count": 50,
     "metadata": {},
     "output_type": "execute_result"
    }
   ],
   "source": [
    "f1_df # 머신러닝 F1_score 데이터 프레임"
   ]
  },
  {
   "cell_type": "code",
   "execution_count": 51,
   "id": "32edca2a",
   "metadata": {},
   "outputs": [
    {
     "data": {
      "text/html": [
       "<div>\n",
       "<style scoped>\n",
       "    .dataframe tbody tr th:only-of-type {\n",
       "        vertical-align: middle;\n",
       "    }\n",
       "\n",
       "    .dataframe tbody tr th {\n",
       "        vertical-align: top;\n",
       "    }\n",
       "\n",
       "    .dataframe thead th {\n",
       "        text-align: right;\n",
       "    }\n",
       "</style>\n",
       "<table border=\"1\" class=\"dataframe\">\n",
       "  <thead>\n",
       "    <tr style=\"text-align: right;\">\n",
       "      <th></th>\n",
       "      <th>model_5000</th>\n",
       "    </tr>\n",
       "  </thead>\n",
       "  <tbody>\n",
       "    <tr>\n",
       "      <th>F1 Score</th>\n",
       "      <td>0.791774</td>\n",
       "    </tr>\n",
       "    <tr>\n",
       "      <th>Accuracy</th>\n",
       "      <td>0.883090</td>\n",
       "    </tr>\n",
       "    <tr>\n",
       "      <th>Val Accuracy</th>\n",
       "      <td>0.815804</td>\n",
       "    </tr>\n",
       "    <tr>\n",
       "      <th>Test Accuracy</th>\n",
       "      <td>0.799644</td>\n",
       "    </tr>\n",
       "  </tbody>\n",
       "</table>\n",
       "</div>"
      ],
      "text/plain": [
       "               model_5000\n",
       "F1 Score         0.791774\n",
       "Accuracy         0.883090\n",
       "Val Accuracy     0.815804\n",
       "Test Accuracy    0.799644"
      ]
     },
     "execution_count": 51,
     "metadata": {},
     "output_type": "execute_result"
    }
   ],
   "source": [
    "fin_df # 딥러닝 데이터프레임"
   ]
  },
  {
   "cell_type": "markdown",
   "id": "713580b0",
   "metadata": {},
   "source": [
    "- 딥러닝 데이터와 머신러닝 데이터가 거의 비슷한 value 값을 보여주나 머신러닝에서 조금 더 우세한듯 보인다."
   ]
  },
  {
   "cell_type": "markdown",
   "id": "bcba917f",
   "metadata": {},
   "source": [
    "---\n",
    "## 6. 회고"
   ]
  },
  {
   "cell_type": "markdown",
   "id": "7fb7bb7b",
   "metadata": {},
   "source": [
    "### 이번 프로젝트를 하면서 어려웠던 점\n",
    ">- 이번 프로젝트는 생각보다 어려웠습니다. 오랜만에 사용해보는 머신러닝 기법이기에 사용법에 어려움을 겪었고 특히나 각 모델, 평가지표 들의 논리 이해가 쉽지 않았습니다. 그래도 예전 머신러닝때보다 더욱 발전한 실력으로 함수도 짜보고 코드를 짜보니 재밌던 부분도 있었습니다.\n",
    "### 이번 프로젝트에서 학습한 내용\n",
    ">- 예전엔 몰랐던 모델들의 파라미터들에 대해 더욱 자세히 알게되었습니다. 이제는 각 파라미터의 의미도 어느정도 눈에 들어오고 다시 한번 머신러닝을 하게 된다면 이번보다 더욱 좋은 성능을 이끌어낼 수 있을 것 같습니다.\n",
    ">- 또한 처음으로 모델 정의 과정에서 언패킹을 처음 써보았는데 잘 되지않아 어렵다가도 성공하게되니 상당히 재밌는 부분으로 다가왔습니다.\n",
    "### 알아낸 점이나 모호한점\n",
    ">- 여전히 평가지표나 모델들에 대해 많이 알아보았지만 여전히 모호한 점들이 많습니다. 각 파라미터들의 정확한 의미, 평가지표의 수식 이해 등 모호한 부분들이 꽤나 있습니다.\n",
    "### 루브릭 평가지표를 맞추기 위해 노력했던 점\n",
    ">- __1. 3가지 단어 개수에 대해 8가지 머신러닝 기법을 적용하여 그중 최적의 솔루션을 도출하였다.__ 에 대해서는 위에서 사용했듯 `num_words = 5000` 이 Accuracy 측면에서 가장 좋았으며 f1-score 도 함께 고려했을 때 역시 다른 num_words 들과 비교했을 때 종합적으로 좋았습니다.\n",
    ">- __2. Vocabulary size에 따른 각 머신러닝 모델의 성능변화 추이를 살피고, 해당 머신러닝 알고리즘의 특성에 근거해 원인을 분석하였다.__ 머신러닝 알고리즘의 특성에 근거해 원인 분석까지는 어려웠지만 각 머신러닝 모델의 성능변화 추이는 데이터프레임 형태로 살폈으며 그를 근거로 최적의 Vocabulary size를 채택하였습니다.\n",
    ">- __3. 동일한 데이터셋과 전처리 조건으로 딥러닝 모델의 성능과 비교하여 결과에 따른 원인을 분석하였다.__ 에 관해서는 동일한 데이터셋과 전처리 조건으로 데이터를 사용하였으며 결과적으로는 클래스가 과하게 치우친 데이터셋의 문제인것으로 판단되었으며 그 결과를 감안하더라도 괜찮은 Accuracy를 보여주었습니다.\n",
    "### 루브릭 평가지표를 달성하지 못했다면 이유\n",
    ">- 아무래도 2,3번 루브릭이 애매합니다. 해당 머신러닝 알고리즘의 특성에 근거.. 하였다는 부분은 상당히 애매하며 3번 루브릭에서 또한 결과에 따른 원인을 분석하였는가 에 대한것이 조금 애매하기에 아마 달성하지 못했다면 위의 이유때문이지 않을까 싶습니다."
   ]
  },
  {
   "cell_type": "markdown",
   "id": "23a634db",
   "metadata": {},
   "source": [
    "---\n",
    "## 7. Reference"
   ]
  },
  {
   "cell_type": "markdown",
   "id": "15183dab",
   "metadata": {},
   "source": [
    "- [사이킷런 공식문서](https://scikit-learn.org/stable/search.html?q=fit)\n",
    "- [서포트 벡터 머신 파라미터 공식문서](https://scikit-learn.org/stable/modules/generated/sklearn.svm.LinearSVC.html?highlight=svc#sklearn.svm.LinearSVC)\n",
    "- [로지스틱 회귀 파라미터 공식문서](https://scikit-learn.org/stable/modules/generated/sklearn.linear_model.LogisticRegression.html?highlight=logisticregression#sklearn.linear_model.LogisticRegression)\n",
    "- [의사결정나무 파라미터 공식문서](https://scikit-learn.org/stable/modules/generated/sklearn.tree.DecisionTreeClassifier.html?highlight=decisiontree#sklearn.tree.DecisionTreeClassifier)\n",
    "- [랜덤포레스트 파라미터 공식문서](https://scikit-learn.org/stable/modules/generated/sklearn.ensemble.RandomForestClassifier.html?highlight=randomforest#sklearn.ensemble.RandomForestClassifier.fit)\n",
    "- [그래디언트 부스팅 파라미터 공식문서](https://scikit-learn.org/stable/modules/generated/sklearn.ensemble.GradientBoostingClassifier.html?highlight=gradientboostingclassifier#sklearn.ensemble.GradientBoostingClassifier)\n",
    "- [컴프리먼트 나이브 베이즈 파라미터 공식문서](https://scikit-learn.org/stable/modules/generated/sklearn.naive_bayes.ComplementNB.html?highlight=complementnb#sklearn.naive_bayes.ComplementNB)\n",
    "- [보팅 파라미터 공식문서](https://scikit-learn.org/stable/modules/generated/sklearn.ensemble.VotingClassifier.html?highlight=votingclass#sklearn.ensemble.VotingClassifier)\n",
    "- [F1-Score 참고 블로그](https://aimb.tistory.com/152)"
   ]
  },
  {
   "cell_type": "markdown",
   "id": "2ada8d1f",
   "metadata": {},
   "source": [
    "---\n",
    "## 8. 자기다짐 및 아쉬운 점"
   ]
  },
  {
   "cell_type": "markdown",
   "id": "832b4336",
   "metadata": {},
   "source": [
    "- 이번 프로젝트에서는 루브릭 평가지표에 대해서 정확한 의도를 파악하지 못해 제대로 했는지에 대한 아쉬움이 있습니다. 또한 머신러닝이라는 주제가 과연 우리가 이후에 더 사용하게 될까? 라는 의문이 들어 더욱 자세히 알아보지 못하기도 하였기에 예전보다 조금 더 나태해지지 않았나.. 하는 생각이 듭니다.\n",
    "  \n",
    "  \n",
    "- 앞으로 더욱 어려워질텐데 나태해지지 말고 더욱 정진해야겠다고 생각하게된 프로젝트였습니다."
   ]
  }
 ],
 "metadata": {
  "kernelspec": {
   "display_name": "Python 3 (ipykernel)",
   "language": "python",
   "name": "python3"
  },
  "language_info": {
   "codemirror_mode": {
    "name": "ipython",
    "version": 3
   },
   "file_extension": ".py",
   "mimetype": "text/x-python",
   "name": "python",
   "nbconvert_exporter": "python",
   "pygments_lexer": "ipython3",
   "version": "3.9.7"
  }
 },
 "nbformat": 4,
 "nbformat_minor": 5
}
