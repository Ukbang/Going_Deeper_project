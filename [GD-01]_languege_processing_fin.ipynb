{
 "cells": [
  {
   "cell_type": "markdown",
   "id": "635f751e",
   "metadata": {},
   "source": [
    "# 프로젝트 : 멋진 단어사진 만들기\n",
    "============================================================================"
   ]
  },
  {
   "cell_type": "markdown",
   "id": "ecf90d69",
   "metadata": {},
   "source": [
    "## 목차\n",
    ">### 1. 데이터 불러오기\n",
    ">### 2. 데이터 전처리\n",
    ">### 3. Sentence piece unigram 모델 구성하기\n",
    ">### 4. Sentence piece unigram 모델 학습하기\n",
    ">### 5. Sentence piece unigram 모델 결과 확인\n",
    ">### 6. Sentence piece BPE 모델 구성 및 학습\n",
    ">### 6.1 결과 확인하기\n",
    ">### 7. 다른 형태소 분석기 사용하기\n",
    ">>### 7.1 Mecab 모델\n",
    ">>### 7.2 Komoran 모델\n",
    ">>### 7.3 Okt 모델\n",
    ">### 8. 종합 결과 확인\n",
    ">### 9. 회고\n",
    ">### 10. Reference\n",
    ">### 11. 자기다짐 및 아쉬운 점"
   ]
  },
  {
   "cell_type": "markdown",
   "id": "1f573dfe",
   "metadata": {},
   "source": [
    "---\n",
    "## 루브릭 달성 조건\n",
    "1. SentencePiece를 이용하여 모델을 만들기까지의 과정이 정상적으로 진행되었는가?\n",
    "    - 코퍼스 분석, 전처리, SentencePiece 적용, 토크나이저 구현 및 동작이 빠짐없이 진행되었는가?\n",
    "2. SentencePiece를 통해 만든 Tokenizer가 자연어처리 모델과 결합하여 동작하는가?\n",
    "    - SentencePiece 토크나이저가 적용된 Text Classifier 모델이 정상적으로 수렴하여 80% 이상의 test accuracy가 확인되었다.\n",
    "3. SentencePiece의 성능을 다각도로 비교분석하였는가?\n",
    "    - SentencePiece 토크나이저를 활용했을 때의 성능을 다른 토크나이저 혹은 SentencePiece의 다른 옵션의 경우와 비교하여 분석을 체계적으로 진행하였다.\n",
    "---"
   ]
  },
  {
   "cell_type": "markdown",
   "id": "90a3acd8",
   "metadata": {},
   "source": [
    "## 1. 데이터 불러오기"
   ]
  },
  {
   "cell_type": "code",
   "execution_count": 1,
   "id": "ab8c9799",
   "metadata": {},
   "outputs": [],
   "source": [
    "import pandas as pd\n",
    "import numpy as np\n",
    "import matplotlib.pyplot as plt\n",
    "import os\n",
    "import konlpy\n",
    "import re\n",
    "from tqdm import tqdm\n",
    "from konlpy.tag import Mecab, Okt, Komoran\n",
    "import tensorflow as tf\n",
    "from tensorflow import keras\n",
    "from tensorflow.keras import layers\n",
    "from tensorflow.keras.layers import Embedding, LSTM, Dense, Dropout, BatchNormalization\n",
    "import warnings\n",
    "warnings.filterwarnings('ignore')\n",
    "\n",
    "\n",
    "tf.random.set_seed(42)\n",
    "np.random.seed(42)"
   ]
  },
  {
   "cell_type": "code",
   "execution_count": 2,
   "id": "ff21a75d",
   "metadata": {},
   "outputs": [],
   "source": [
    "train_path = './data/ratings_train.txt'\n",
    "test_path = './data/ratings_test.txt'\n",
    "\n",
    "train = pd.read_table(train_path, sep='\t',usecols=['id', 'document', 'label'], encoding='UTF-8')\n",
    "test = pd.read_table(test_path, sep='\t',usecols=['id', 'document', 'label'], encoding='UTF-8')"
   ]
  },
  {
   "cell_type": "code",
   "execution_count": 3,
   "id": "e1416139",
   "metadata": {},
   "outputs": [
    {
     "data": {
      "text/html": [
       "<div>\n",
       "<style scoped>\n",
       "    .dataframe tbody tr th:only-of-type {\n",
       "        vertical-align: middle;\n",
       "    }\n",
       "\n",
       "    .dataframe tbody tr th {\n",
       "        vertical-align: top;\n",
       "    }\n",
       "\n",
       "    .dataframe thead th {\n",
       "        text-align: right;\n",
       "    }\n",
       "</style>\n",
       "<table border=\"1\" class=\"dataframe\">\n",
       "  <thead>\n",
       "    <tr style=\"text-align: right;\">\n",
       "      <th></th>\n",
       "      <th>id</th>\n",
       "      <th>document</th>\n",
       "      <th>label</th>\n",
       "    </tr>\n",
       "  </thead>\n",
       "  <tbody>\n",
       "    <tr>\n",
       "      <th>0</th>\n",
       "      <td>9976970</td>\n",
       "      <td>아 더빙.. 진짜 짜증나네요 목소리</td>\n",
       "      <td>0</td>\n",
       "    </tr>\n",
       "    <tr>\n",
       "      <th>1</th>\n",
       "      <td>3819312</td>\n",
       "      <td>흠...포스터보고 초딩영화줄....오버연기조차 가볍지 않구나</td>\n",
       "      <td>1</td>\n",
       "    </tr>\n",
       "    <tr>\n",
       "      <th>2</th>\n",
       "      <td>10265843</td>\n",
       "      <td>너무재밓었다그래서보는것을추천한다</td>\n",
       "      <td>0</td>\n",
       "    </tr>\n",
       "    <tr>\n",
       "      <th>3</th>\n",
       "      <td>9045019</td>\n",
       "      <td>교도소 이야기구먼 ..솔직히 재미는 없다..평점 조정</td>\n",
       "      <td>0</td>\n",
       "    </tr>\n",
       "    <tr>\n",
       "      <th>4</th>\n",
       "      <td>6483659</td>\n",
       "      <td>사이몬페그의 익살스런 연기가 돋보였던 영화!스파이더맨에서 늙어보이기만 했던 커스틴 ...</td>\n",
       "      <td>1</td>\n",
       "    </tr>\n",
       "  </tbody>\n",
       "</table>\n",
       "</div>"
      ],
      "text/plain": [
       "         id                                           document  label\n",
       "0   9976970                                아 더빙.. 진짜 짜증나네요 목소리      0\n",
       "1   3819312                  흠...포스터보고 초딩영화줄....오버연기조차 가볍지 않구나      1\n",
       "2  10265843                                  너무재밓었다그래서보는것을추천한다      0\n",
       "3   9045019                      교도소 이야기구먼 ..솔직히 재미는 없다..평점 조정      0\n",
       "4   6483659  사이몬페그의 익살스런 연기가 돋보였던 영화!스파이더맨에서 늙어보이기만 했던 커스틴 ...      1"
      ]
     },
     "execution_count": 3,
     "metadata": {},
     "output_type": "execute_result"
    }
   ],
   "source": [
    "train.head()"
   ]
  },
  {
   "cell_type": "code",
   "execution_count": 4,
   "id": "735f122a",
   "metadata": {},
   "outputs": [
    {
     "data": {
      "text/html": [
       "<div>\n",
       "<style scoped>\n",
       "    .dataframe tbody tr th:only-of-type {\n",
       "        vertical-align: middle;\n",
       "    }\n",
       "\n",
       "    .dataframe tbody tr th {\n",
       "        vertical-align: top;\n",
       "    }\n",
       "\n",
       "    .dataframe thead th {\n",
       "        text-align: right;\n",
       "    }\n",
       "</style>\n",
       "<table border=\"1\" class=\"dataframe\">\n",
       "  <thead>\n",
       "    <tr style=\"text-align: right;\">\n",
       "      <th></th>\n",
       "      <th>id</th>\n",
       "      <th>document</th>\n",
       "      <th>label</th>\n",
       "    </tr>\n",
       "  </thead>\n",
       "  <tbody>\n",
       "    <tr>\n",
       "      <th>0</th>\n",
       "      <td>6270596</td>\n",
       "      <td>굳 ㅋ</td>\n",
       "      <td>1</td>\n",
       "    </tr>\n",
       "    <tr>\n",
       "      <th>1</th>\n",
       "      <td>9274899</td>\n",
       "      <td>GDNTOPCLASSINTHECLUB</td>\n",
       "      <td>0</td>\n",
       "    </tr>\n",
       "    <tr>\n",
       "      <th>2</th>\n",
       "      <td>8544678</td>\n",
       "      <td>뭐야 이 평점들은.... 나쁘진 않지만 10점 짜리는 더더욱 아니잖아</td>\n",
       "      <td>0</td>\n",
       "    </tr>\n",
       "    <tr>\n",
       "      <th>3</th>\n",
       "      <td>6825595</td>\n",
       "      <td>지루하지는 않은데 완전 막장임... 돈주고 보기에는....</td>\n",
       "      <td>0</td>\n",
       "    </tr>\n",
       "    <tr>\n",
       "      <th>4</th>\n",
       "      <td>6723715</td>\n",
       "      <td>3D만 아니었어도 별 다섯 개 줬을텐데.. 왜 3D로 나와서 제 심기를 불편하게 하죠??</td>\n",
       "      <td>0</td>\n",
       "    </tr>\n",
       "  </tbody>\n",
       "</table>\n",
       "</div>"
      ],
      "text/plain": [
       "        id                                           document  label\n",
       "0  6270596                                                굳 ㅋ      1\n",
       "1  9274899                               GDNTOPCLASSINTHECLUB      0\n",
       "2  8544678             뭐야 이 평점들은.... 나쁘진 않지만 10점 짜리는 더더욱 아니잖아      0\n",
       "3  6825595                   지루하지는 않은데 완전 막장임... 돈주고 보기에는....      0\n",
       "4  6723715  3D만 아니었어도 별 다섯 개 줬을텐데.. 왜 3D로 나와서 제 심기를 불편하게 하죠??      0"
      ]
     },
     "execution_count": 4,
     "metadata": {},
     "output_type": "execute_result"
    }
   ],
   "source": [
    "test.head()"
   ]
  },
  {
   "cell_type": "markdown",
   "id": "143cea36",
   "metadata": {},
   "source": [
    "- 예전에 사용했었던 네이버 감성리뷰 데이터셋을 가져왔습니다."
   ]
  },
  {
   "cell_type": "code",
   "execution_count": 5,
   "id": "416ea140",
   "metadata": {},
   "outputs": [],
   "source": [
    "# 중복 제거\n",
    "train.drop_duplicates(subset=['document'], inplace=True)\n",
    "test.drop_duplicates(subset=['document'], inplace=True)"
   ]
  },
  {
   "cell_type": "code",
   "execution_count": 6,
   "id": "42fe9272",
   "metadata": {},
   "outputs": [
    {
     "name": "stdout",
     "output_type": "stream",
     "text": [
      "train 데이터셋 결측치 갯수 \n",
      "\n",
      " id          0\n",
      "document    1\n",
      "label       0\n",
      "dtype: int64 \n",
      " -------------------------------------------------------------------------------------------------------------------------------- \n",
      "\n",
      "test 데이터셋 결측치 갯수 \n",
      "\n",
      " id          0\n",
      "document    1\n",
      "label       0\n",
      "dtype: int64\n"
     ]
    }
   ],
   "source": [
    "print('train 데이터셋 결측치 갯수','\\n\\n', train.isna().sum(), '\\n', '----'*32, '\\n')\n",
    "print('test 데이터셋 결측치 갯수', '\\n\\n', test.isna().sum())"
   ]
  },
  {
   "cell_type": "code",
   "execution_count": 7,
   "id": "bcbafb67",
   "metadata": {},
   "outputs": [],
   "source": [
    "# 결측치 제거\n",
    "train.dropna(inplace=True)\n",
    "test.dropna(inplace=True)"
   ]
  },
  {
   "cell_type": "code",
   "execution_count": 8,
   "id": "477def6e",
   "metadata": {},
   "outputs": [],
   "source": [
    "train_len = len(train)"
   ]
  },
  {
   "cell_type": "code",
   "execution_count": 9,
   "id": "f065116d",
   "metadata": {},
   "outputs": [],
   "source": [
    "# id 컬럼 제거\n",
    "data = pd.concat([train, test], axis=0)\n",
    "\n",
    "del data['id']"
   ]
  },
  {
   "cell_type": "code",
   "execution_count": 10,
   "id": "aa38e9bf",
   "metadata": {},
   "outputs": [],
   "source": [
    "indices = np.arange(data.shape[0])\n",
    "np.random.shuffle(indices)\n",
    "\n",
    "document = np.array(data['document'])\n",
    "label = np.array(data['label'])\n",
    "document = document[indices]\n",
    "label = label[indices]"
   ]
  },
  {
   "cell_type": "markdown",
   "id": "a0c9336e",
   "metadata": {},
   "source": [
    "- 데이터를 랜덤한 값으로 셔플해주었습니다."
   ]
  },
  {
   "cell_type": "code",
   "execution_count": 11,
   "id": "2e40b4ae",
   "metadata": {},
   "outputs": [],
   "source": [
    "data['document'] = document\n",
    "data['label'] = label"
   ]
  },
  {
   "cell_type": "code",
   "execution_count": 12,
   "id": "7cef79b8",
   "metadata": {},
   "outputs": [],
   "source": [
    "train, test = data[:train_len], data[train_len:]"
   ]
  },
  {
   "cell_type": "code",
   "execution_count": 13,
   "id": "abb8a4ea",
   "metadata": {},
   "outputs": [
    {
     "name": "stdout",
     "output_type": "stream",
     "text": [
      "train 데이터셋의 길이 146182\n",
      "test 데이터셋의 길이 49157\n"
     ]
    }
   ],
   "source": [
    "train.reset_index(inplace=True, drop=True)\n",
    "test.reset_index(inplace=True, drop=True)\n",
    "\n",
    "print('train 데이터셋의 길이', len(train))\n",
    "print('test 데이터셋의 길이', len(test))"
   ]
  },
  {
   "cell_type": "markdown",
   "id": "b9f25449",
   "metadata": {},
   "source": [
    "- 중복값을 제거하니 약 4천개의 데이터가 사라졌습니다."
   ]
  },
  {
   "cell_type": "markdown",
   "id": "50139d6e",
   "metadata": {},
   "source": [
    "---\n",
    "## 2. 데이터 전처리"
   ]
  },
  {
   "cell_type": "code",
   "execution_count": 14,
   "id": "1919e893",
   "metadata": {},
   "outputs": [],
   "source": [
    "def regex_sentence(corpus):\n",
    "    sentences = []\n",
    "    for sentence in corpus:\n",
    "        sentence = re.sub(r\"[^a-zA-Zㅋㅎㅜㅠ가-힣0-9!;?.,]+\", r\"\", sentence)\n",
    "        sentences.append(sentence)\n",
    "    corpus = sentences\n",
    "    \n",
    "    return corpus"
   ]
  },
  {
   "cell_type": "markdown",
   "id": "6b2fff49",
   "metadata": {},
   "source": [
    "- 전처리 함수를 만들었습니다. 영어, 한글은 남겨놓고 자음 ㅋㅎ 모음 ㅜㅠ 가 단독적으로 사용된 경우를 제외하곤 삭제했습니다. 특수문자는 !;?., 를 제외하고 삭제하였습니다."
   ]
  },
  {
   "cell_type": "code",
   "execution_count": 15,
   "id": "e597ca51",
   "metadata": {},
   "outputs": [],
   "source": [
    "train['document'] = regex_sentence(train['document'])\n",
    "test['document'] = regex_sentence(test['document'])"
   ]
  },
  {
   "cell_type": "code",
   "execution_count": 17,
   "id": "93af7be9",
   "metadata": {},
   "outputs": [
    {
     "name": "stderr",
     "output_type": "stream",
     "text": [
      "sentencepiece_trainer.cc(177) LOG(INFO) Running command: --input=/aiffel/aiffel/Going_Deeper/GD_02/data/korean-english-park.train.ko.temp     --model_prefix=korean_spm_unigram_custom     --vocab_size=25000     --pad_id=0     --bos_id=1     --eos_id=2     --unk_id=3     --max_sentence_length=40    --train_extremely_large_corpus=True\n",
      "sentencepiece_trainer.cc(77) LOG(INFO) Starts training with : \n",
      "trainer_spec {\n",
      "  input: /aiffel/aiffel/Going_Deeper/GD_02/data/korean-english-park.train.ko.temp\n",
      "  input_format: \n",
      "  model_prefix: korean_spm_unigram_custom\n",
      "  model_type: UNIGRAM\n",
      "  vocab_size: 25000\n",
      "  self_test_sample_size: 0\n",
      "  character_coverage: 0.9995\n",
      "  input_sentence_size: 0\n",
      "  shuffle_input_sentence: 1\n",
      "  seed_sentencepiece_size: 1000000\n",
      "  shrinking_factor: 0.75\n",
      "  max_sentence_length: 40\n",
      "  num_threads: 16\n",
      "  num_sub_iterations: 2\n",
      "  max_sentencepiece_length: 16\n",
      "  split_by_unicode_script: 1\n",
      "  split_by_number: 1\n",
      "  split_by_whitespace: 1\n",
      "  split_digits: 0\n",
      "  treat_whitespace_as_suffix: 0\n",
      "  allow_whitespace_only_pieces: 0\n",
      "  required_chars: \n",
      "  byte_fallback: 0\n",
      "  vocabulary_output_piece_score: 1\n",
      "  train_extremely_large_corpus: 1\n",
      "  hard_vocab_limit: 1\n",
      "  use_all_vocab: 0\n",
      "  unk_id: 3\n",
      "  bos_id: 1\n",
      "  eos_id: 2\n",
      "  pad_id: 0\n",
      "  unk_piece: <unk>\n",
      "  bos_piece: <s>\n",
      "  eos_piece: </s>\n",
      "  pad_piece: <pad>\n",
      "  unk_surface:  ⁇ \n",
      "}\n",
      "normalizer_spec {\n",
      "  name: nmt_nfkc\n",
      "  add_dummy_prefix: 1\n",
      "  remove_extra_whitespaces: 1\n",
      "  escape_whitespaces: 1\n",
      "  normalization_rule_tsv: \n",
      "}\n",
      "denormalizer_spec {}\n",
      "trainer_interface.cc(329) LOG(INFO) SentenceIterator is not specified. Using MultiFileSentenceIterator.\n",
      "trainer_interface.cc(178) LOG(INFO) Loading corpus: /aiffel/aiffel/Going_Deeper/GD_02/data/korean-english-park.train.ko.temp\n",
      "trainer_interface.cc(356) LOG(WARNING) Found too long line (102 > 40).\n",
      "trainer_interface.cc(358) LOG(WARNING) Too long lines are skipped in the training.\n",
      "trainer_interface.cc(359) LOG(WARNING) The maximum length can be changed with --max_sentence_length=<size> flag.\n",
      "trainer_interface.cc(385) LOG(INFO) Loaded all 42455 sentences\n",
      "trainer_interface.cc(391) LOG(INFO) Skipped 103627 too long sentences.\n",
      "trainer_interface.cc(400) LOG(INFO) Adding meta_piece: <pad>\n",
      "trainer_interface.cc(400) LOG(INFO) Adding meta_piece: <s>\n",
      "trainer_interface.cc(400) LOG(INFO) Adding meta_piece: </s>\n",
      "trainer_interface.cc(400) LOG(INFO) Adding meta_piece: <unk>\n",
      "trainer_interface.cc(405) LOG(INFO) Normalizing sentences...\n",
      "trainer_interface.cc(466) LOG(INFO) all chars count=474187\n",
      "trainer_interface.cc(477) LOG(INFO) Done: 99.95% characters are covered.\n",
      "trainer_interface.cc(487) LOG(INFO) Alphabet size=1649\n",
      "trainer_interface.cc(488) LOG(INFO) Final character coverage=0.9995\n",
      "trainer_interface.cc(520) LOG(INFO) Done! preprocessed 42455 sentences.\n",
      "unigram_model_trainer.cc(139) LOG(INFO) Making suffix array...\n",
      "unigram_model_trainer.cc(143) LOG(INFO) Extracting frequent sub strings...\n",
      "unigram_model_trainer.cc(194) LOG(INFO) Initialized 84973 seed sentencepieces\n",
      "trainer_interface.cc(526) LOG(INFO) Tokenizing input sentences with whitespace: 42455\n",
      "trainer_interface.cc(537) LOG(INFO) Done! 41339\n",
      "unigram_model_trainer.cc(489) LOG(INFO) Using 41339 sentences for EM training\n",
      "unigram_model_trainer.cc(505) LOG(INFO) EM sub_iter=0 size=41853 obj=36.9028 num_tokens=161689 num_tokens/piece=3.86326\n",
      "unigram_model_trainer.cc(505) LOG(INFO) EM sub_iter=1 size=38843 obj=34.6408 num_tokens=162973 num_tokens/piece=4.19569\n",
      "unigram_model_trainer.cc(505) LOG(INFO) EM sub_iter=0 size=29078 obj=35.3614 num_tokens=172171 num_tokens/piece=5.92101\n",
      "unigram_model_trainer.cc(505) LOG(INFO) EM sub_iter=1 size=28996 obj=35.0115 num_tokens=172464 num_tokens/piece=5.94785\n",
      "unigram_model_trainer.cc(505) LOG(INFO) EM sub_iter=0 size=27495 obj=35.1981 num_tokens=174423 num_tokens/piece=6.34381\n",
      "unigram_model_trainer.cc(505) LOG(INFO) EM sub_iter=1 size=27465 obj=35.1391 num_tokens=174549 num_tokens/piece=6.35532\n",
      "trainer_interface.cc(615) LOG(INFO) Saving model: korean_spm_unigram_custom.model\n",
      "trainer_interface.cc(626) LOG(INFO) Saving vocabs: korean_spm_unigram_custom.vocab\n"
     ]
    },
    {
     "name": "stdout",
     "output_type": "stream",
     "text": [
      "-rw-r--r-- 1 root root 740709 Nov 22 04:06 korean_spm_unigram_custom.model\r\n",
      "-rw-r--r-- 1 root root 525063 Nov 22 04:06 korean_spm_unigram_custom.vocab\r\n",
      "-rw-r--r-- 1 root root 509171 Nov 21 11:54 korean_spm_unigram.model\r\n",
      "-rw-r--r-- 1 root root 284903 Nov 21 11:54 korean_spm_unigram.vocab\r\n"
     ]
    }
   ],
   "source": [
    "import sentencepiece as spm\n",
    "import os\n",
    "\n",
    "temp_file = os.getenv('HOME')+'/aiffel/Going_Deeper/GD_02/data/korean-english-park.train.ko.temp'\n",
    "\n",
    "vocab_size = 25000\n",
    "\n",
    "pad_id = 0\n",
    "bos_id = 1\n",
    "eod_id = 2\n",
    "unk_id = 3\n",
    "max_length = 40\n",
    "train_large_corpus = True\n",
    "\n",
    "with open(temp_file, 'w') as f:\n",
    "    for row in train['document']:   # 이전 스텝에서 정제했던 corpus를 활용합니다.\n",
    "        f.write(str(row) + '\\n')\n",
    "\n",
    "spm.SentencePieceTrainer.Train(\n",
    "    '--input={} \\\n",
    "    --model_prefix=korean_spm_unigram_custom \\\n",
    "    --vocab_size={} \\\n",
    "    --pad_id={} \\\n",
    "    --bos_id={} \\\n",
    "    --eos_id={} \\\n",
    "    --unk_id={} \\\n",
    "    --max_sentence_length={}\\\n",
    "    --train_extremely_large_corpus={}'.format(temp_file, vocab_size, pad_id, bos_id, eod_id, unk_id, max_length, train_large_corpus)    \n",
    ")\n",
    "#위 Train에서  --model_type = 'unigram'이 디폴트 적용되어 있습니다. --model_type = 'bpe' 로 옵션을 주어 변경할 수 있습니다.\n",
    "\n",
    "!ls -l korean_spm_unigram_custom*"
   ]
  },
  {
   "cell_type": "markdown",
   "id": "2be7d009",
   "metadata": {},
   "source": [
    "- SPM 모델을 가져왔습니다. 파라미터에서 토큰의 값을 지정해주고 문장 최대길이를 지정해주었습니다."
   ]
  },
  {
   "cell_type": "code",
   "execution_count": 18,
   "id": "2b262800",
   "metadata": {},
   "outputs": [
    {
     "name": "stdout",
     "output_type": "stream",
     "text": [
      "[3, 7263, 294, 18, 3377, 122, 9, 4]\n",
      "['▁', '아버지가', '방', '에', '들어가', '신', '다', '.']\n",
      "아버지가방에들어가신다.\n"
     ]
    }
   ],
   "source": [
    "s_uni = spm.SentencePieceProcessor()\n",
    "s_uni.Load('korean_spm_unigram.model')\n",
    "\n",
    "# SentencePiece를 활용한 sentence -> encoding\n",
    "tokensIDs = s_uni.EncodeAsIds('아버지가방에들어가신다.')\n",
    "print(tokensIDs)\n",
    "\n",
    "# SentencePiece를 활용한 sentence -> encoded pieces\n",
    "print(s_uni.SampleEncodeAsPieces('아버지가방에들어가신다.',1, 0.0))\n",
    "\n",
    "# SentencePiece를 활용한 encoding -> sentence 복원\n",
    "print(s_uni.DecodeIds(tokensIDs))"
   ]
  },
  {
   "cell_type": "markdown",
   "id": "24a66f20",
   "metadata": {},
   "source": [
    "- load가 잘 된것을 확인할 수 있습니다."
   ]
  },
  {
   "cell_type": "code",
   "execution_count": 19,
   "id": "517fc1e6",
   "metadata": {},
   "outputs": [],
   "source": [
    "def sp_tokenize(s, df, df2):\n",
    "\n",
    "    tensor = []\n",
    "    tensor2 = []\n",
    "\n",
    "    for sen in df['document']:\n",
    "        tensor.append(s.EncodeAsIds(sen))\n",
    "    \n",
    "    for sen2 in df2['document']:\n",
    "        tensor2.append(s.EncodeAsIds(sen2))        \n",
    "\n",
    "    with open(\"./korean_spm_unigram_custom.vocab\", 'r') as f:\n",
    "        vocab = f.readlines()\n",
    "\n",
    "    word_index = {}\n",
    "    index_word = {}\n",
    "\n",
    "    for idx, line in enumerate(vocab):\n",
    "        word = line.split(\"\\t\")[0]\n",
    "\n",
    "        word_index.update({word:idx})\n",
    "        index_word.update({idx:word})\n",
    "\n",
    "    train_label = np.array(df['label'])\n",
    "    test_label = np.array(df2['label'])\n",
    "\n",
    "    return tensor, train_label, tensor2, test_label, word_index, index_word"
   ]
  },
  {
   "cell_type": "markdown",
   "id": "127ab95c",
   "metadata": {},
   "source": [
    "- LMS 예시 tokenize 함수를 가져와서 살짝 커스텀하였습니다."
   ]
  },
  {
   "cell_type": "code",
   "execution_count": 20,
   "id": "3eab9794",
   "metadata": {},
   "outputs": [],
   "source": [
    "x_train, y_train, x_test, y_test, uni_word_to_idx, uni_idx_to_word = sp_tokenize(s_uni, train, test)"
   ]
  },
  {
   "cell_type": "code",
   "execution_count": 21,
   "id": "25e0cdf6",
   "metadata": {},
   "outputs": [],
   "source": [
    "def max_min_len(data, name):\n",
    "    max_len = 0\n",
    "    min_len = 999\n",
    "    total_len = 0\n",
    "\n",
    "    for i in tqdm(range(len(data))):\n",
    "        if len(data[i]) < min_len:\n",
    "            min_len = len(data[i])\n",
    "            total_len += len(data[i])\n",
    "        elif len(data[i]) > max_len:\n",
    "            max_len = len(data[i])\n",
    "            total_len += len(data[i])\n",
    "        elif len(data[i]) >= min_len or len(data[i]) <= max_len:\n",
    "            total_len += len(data[i])\n",
    "    mean_len = total_len//len(data)\n",
    "    \n",
    "    print(f'{name} 데이터셋의 최대 길이: {max_len}')\n",
    "    print(f'{name} 데이터셋의 최소 길이: {min_len}')\n",
    "    print(f'{name} 데이터셋의 평균 길이: {mean_len}')\n",
    "    print(f'{name} 데이터셋의 총 길이: {total_len}')\n",
    "    print('----'*32)\n",
    "    \n",
    "    sentence_length = np.zeros((max_len), dtype=np.int)\n",
    "\n",
    "    for s in data:\n",
    "        sentence_length[len(s)-1] += 1\n",
    "\n",
    "    plt.bar(range(max_len), sentence_length, width=1.0)\n",
    "    plt.title(\"{} Length\".format(name))\n",
    "    plt.show()"
   ]
  },
  {
   "cell_type": "markdown",
   "id": "c4474d1f",
   "metadata": {},
   "source": [
    "- 데이터 최대길이, 최소길이, 평균길이 분포를 구해주는 함수를 설정하였습니다."
   ]
  },
  {
   "cell_type": "code",
   "execution_count": 22,
   "id": "35b8d551",
   "metadata": {},
   "outputs": [
    {
     "name": "stderr",
     "output_type": "stream",
     "text": [
      "100%|██████████| 146182/146182 [00:00<00:00, 1166423.63it/s]\n"
     ]
    },
    {
     "name": "stdout",
     "output_type": "stream",
     "text": [
      "Train 데이터셋의 최대 길이: 98\n",
      "Train 데이터셋의 최소 길이: 0\n",
      "Train 데이터셋의 평균 길이: 14\n",
      "Train 데이터셋의 총 길이: 2081717\n",
      "--------------------------------------------------------------------------------------------------------------------------------\n"
     ]
    },
    {
     "data": {
      "image/png": "[encoded data removed]",
      "text/plain": [
       "<Figure size 432x288 with 1 Axes>"
      ]
     },
     "metadata": {
      "needs_background": "light"
     },
     "output_type": "display_data"
    },
    {
     "name": "stderr",
     "output_type": "stream",
     "text": [
      "100%|██████████| 49157/49157 [00:00<00:00, 1645157.80it/s]\n"
     ]
    },
    {
     "name": "stdout",
     "output_type": "stream",
     "text": [
      "Test 데이터셋의 최대 길이: 103\n",
      "Test 데이터셋의 최소 길이: 0\n",
      "Test 데이터셋의 평균 길이: 14\n",
      "Test 데이터셋의 총 길이: 709557\n",
      "--------------------------------------------------------------------------------------------------------------------------------\n"
     ]
    },
    {
     "data": {
      "image/png": "[encoded data removed]",
      "text/plain": [
       "<Figure size 432x288 with 1 Axes>"
      ]
     },
     "metadata": {
      "needs_background": "light"
     },
     "output_type": "display_data"
    }
   ],
   "source": [
    "max_min_len(x_train, 'Train')\n",
    "max_min_len(x_test, 'Test')"
   ]
  },
  {
   "cell_type": "code",
   "execution_count": 23,
   "id": "2b3ca573",
   "metadata": {},
   "outputs": [],
   "source": [
    "def clear_sentence(x_train, y_train, min_num = 0, max_num = 25000, name='Train'):\n",
    "    orig_train_len = len(x_train)\n",
    "    train = []\n",
    "    train_label = []\n",
    "    for i in tqdm(reversed(range(len(x_train)))):\n",
    "        if len(x_train[i]) <= min_num or len(x_train[i]) > max_num:\n",
    "            continue\n",
    "        else:\n",
    "            train.append(x_train[i])\n",
    "            train_label.append(y_train[i])\n",
    "    \n",
    "    print('----'*32)                    \n",
    "    print(f'전처리 전 {name} 데이터의 길이: {orig_train_len}')\n",
    "    print(f'전처리 후 {name} 데이터의 길이: {len(train)}')\n",
    "    print('----'*32)\n",
    "    train = np.array(train)\n",
    "    train_label = np.array(train_label)\n",
    "    \n",
    "    return train, train_label"
   ]
  },
  {
   "cell_type": "markdown",
   "id": "0f58ff31",
   "metadata": {},
   "source": [
    "- 분포에 맞게 문장의 길이를 조절해줄 함수를 만들었습니다."
   ]
  },
  {
   "cell_type": "code",
   "execution_count": 24,
   "id": "5698a500",
   "metadata": {},
   "outputs": [
    {
     "name": "stderr",
     "output_type": "stream",
     "text": [
      "146182it [00:00, 933664.31it/s]\n"
     ]
    },
    {
     "name": "stdout",
     "output_type": "stream",
     "text": [
      "--------------------------------------------------------------------------------------------------------------------------------\n",
      "전처리 전 Train 데이터의 길이: 146182\n",
      "전처리 후 Train 데이터의 길이: 127433\n",
      "--------------------------------------------------------------------------------------------------------------------------------\n"
     ]
    },
    {
     "name": "stderr",
     "output_type": "stream",
     "text": [
      "49157it [00:00, 994114.76it/s]\n"
     ]
    },
    {
     "name": "stdout",
     "output_type": "stream",
     "text": [
      "--------------------------------------------------------------------------------------------------------------------------------\n",
      "전처리 전 Test 데이터의 길이: 49157\n",
      "전처리 후 Test 데이터의 길이: 42679\n",
      "--------------------------------------------------------------------------------------------------------------------------------\n"
     ]
    }
   ],
   "source": [
    "x_train, y_train = clear_sentence(x_train, y_train, min_num = 1, max_num=25)\n",
    "x_test, y_test = clear_sentence(x_test, y_test, min_num=1, max_num = 25, name='Test')"
   ]
  },
  {
   "cell_type": "markdown",
   "id": "97f1861a",
   "metadata": {},
   "source": [
    "- 방해가되는 길이 1의 데이터는 삭제하고 길이가 25을 넘는 데이터도 삭제하였습니다.\n",
    "- 데이터가 약 train은 2만개 test는 6500개가 삭제되었습니다."
   ]
  },
  {
   "cell_type": "code",
   "execution_count": 25,
   "id": "68a6e2ec",
   "metadata": {},
   "outputs": [
    {
     "name": "stderr",
     "output_type": "stream",
     "text": [
      "100%|██████████| 127433/127433 [00:00<00:00, 862112.88it/s]\n"
     ]
    },
    {
     "name": "stdout",
     "output_type": "stream",
     "text": [
      "Train 데이터셋의 최대 길이: 25\n",
      "Train 데이터셋의 최소 길이: 2\n",
      "Train 데이터셋의 평균 길이: 10\n",
      "Train 데이터셋의 총 길이: 1343040\n",
      "--------------------------------------------------------------------------------------------------------------------------------\n"
     ]
    },
    {
     "data": {
      "image/png": "[encoded data removed]",
      "text/plain": [
       "<Figure size 432x288 with 1 Axes>"
      ]
     },
     "metadata": {
      "needs_background": "light"
     },
     "output_type": "display_data"
    },
    {
     "name": "stderr",
     "output_type": "stream",
     "text": [
      "100%|██████████| 42679/42679 [00:00<00:00, 795799.36it/s]\n"
     ]
    },
    {
     "name": "stdout",
     "output_type": "stream",
     "text": [
      "Test 데이터셋의 최대 길이: 25\n",
      "Test 데이터셋의 최소 길이: 2\n",
      "Test 데이터셋의 평균 길이: 10\n",
      "Test 데이터셋의 총 길이: 452850\n",
      "--------------------------------------------------------------------------------------------------------------------------------\n"
     ]
    },
    {
     "data": {
      "image/png": "[encoded data removed]",
      "text/plain": [
       "<Figure size 432x288 with 1 Axes>"
      ]
     },
     "metadata": {
      "needs_background": "light"
     },
     "output_type": "display_data"
    }
   ],
   "source": [
    "max_min_len(x_train, 'Train')\n",
    "max_min_len(x_test, 'Test')"
   ]
  },
  {
   "cell_type": "markdown",
   "id": "e0481ac5",
   "metadata": {},
   "source": [
    "- 잘 처리되었군요."
   ]
  },
  {
   "cell_type": "code",
   "execution_count": 26,
   "id": "6635014e",
   "metadata": {},
   "outputs": [],
   "source": [
    "x_train = tf.keras.preprocessing.sequence.pad_sequences(x_train, padding='post', maxlen= 25)\n",
    "x_test = tf.keras.preprocessing.sequence.pad_sequences(x_test, padding='post', maxlen= 25)"
   ]
  },
  {
   "cell_type": "markdown",
   "id": "ad39d285",
   "metadata": {},
   "source": [
    "- 패딩도 동일하게 25로 진행해주었습니다."
   ]
  },
  {
   "cell_type": "code",
   "execution_count": 27,
   "id": "349828f1",
   "metadata": {},
   "outputs": [],
   "source": [
    "from sklearn.model_selection import train_test_split\n",
    "\n",
    "x_train, x_val, y_train, y_val = train_test_split(x_train,\n",
    "                                                  y_train,\n",
    "                                                  test_size=0.2,\n",
    "                                                  random_state=42)"
   ]
  },
  {
   "cell_type": "code",
   "execution_count": 28,
   "id": "5688c1e1",
   "metadata": {},
   "outputs": [
    {
     "name": "stdout",
     "output_type": "stream",
     "text": [
      " 훈련 데이터셋의 길이:  101946 \n",
      " 벨리데이션 데이터셋의 길이:  25487\n",
      "--------------------------------------------------------------------------------------------------------------------------------\n",
      " 훈련 라벨데이터셋의 길이:  101946 \n",
      " 벨리데이션 라벨데이터셋의 길이:  25487\n",
      "--------------------------------------------------------------------------------------------------------------------------------\n"
     ]
    }
   ],
   "source": [
    "print(' 훈련 데이터셋의 길이: ',len(x_train),'\\n', '벨리데이션 데이터셋의 길이: ', len(x_val))\n",
    "print('----'*32)\n",
    "print(' 훈련 라벨데이터셋의 길이: ', len(y_train), '\\n', '벨리데이션 라벨데이터셋의 길이: ', len(y_val))\n",
    "print('----'*32)"
   ]
  },
  {
   "cell_type": "markdown",
   "id": "fdf9cdcd",
   "metadata": {},
   "source": [
    "- train과 validation 셋을 8:2로 나누어 주었습니다."
   ]
  },
  {
   "cell_type": "markdown",
   "id": "57ee4464",
   "metadata": {},
   "source": [
    "---\n",
    "## 3. Sentence piece unigram 모델 구성하기"
   ]
  },
  {
   "cell_type": "code",
   "execution_count": 29,
   "id": "991fce1d",
   "metadata": {},
   "outputs": [],
   "source": [
    "# 하이퍼 파라미터\n",
    "vocab_size = 25000\n",
    "embedding_size = 64\n",
    "batch_size = 256\n",
    "units = 32\n",
    "epochs = 5\n",
    "drop_rate = 0.5"
   ]
  },
  {
   "cell_type": "code",
   "execution_count": 30,
   "id": "15b96253",
   "metadata": {},
   "outputs": [],
   "source": [
    "class s_uni_model(keras.Model):\n",
    "    def __init__(self, vocab_size, embedding_size, units, drop_rate):\n",
    "        super().__init__()\n",
    "        self.Embedding = Embedding(vocab_size, embedding_size, mask_zero=True)\n",
    "        self.lstm1 = LSTM(units, return_sequences=True, activation='tanh', dropout=drop_rate)\n",
    "        self.batch1 = BatchNormalization()\n",
    "        self.drop1 = Dropout(drop_rate)\n",
    "        self.lstm2 = LSTM(units*2, activation='tanh', dropout=drop_rate)\n",
    "        self.batch2 = BatchNormalization()\n",
    "        self.drop2 = Dropout(drop_rate)\n",
    "        self.dense = Dense(1, activation='sigmoid')\n",
    "        \n",
    "    def call(self, x):\n",
    "        x = self.Embedding(x)\n",
    "        x = self.lstm1(x)\n",
    "        x = self.batch1(x)\n",
    "        x = self.drop1(x)\n",
    "        x = self.lstm2(x)\n",
    "        x = self.batch2(x)\n",
    "        x = self.drop2(x)\n",
    "        x = self.dense(x)\n",
    "        \n",
    "        return x"
   ]
  },
  {
   "cell_type": "markdown",
   "id": "ec468cf1",
   "metadata": {},
   "source": [
    "- subclassing 방식으로 모델을 만들었습니다."
   ]
  },
  {
   "cell_type": "markdown",
   "id": "a755b79c",
   "metadata": {},
   "source": [
    "---\n",
    "## 4. Sentence piece unigram 모델 학습하기"
   ]
  },
  {
   "cell_type": "code",
   "execution_count": 31,
   "id": "bf27bd35",
   "metadata": {
    "scrolled": false
   },
   "outputs": [
    {
     "name": "stdout",
     "output_type": "stream",
     "text": [
      "Epoch 1/5\n",
      "399/399 [==============================] - 91s 203ms/step - loss: 0.5727 - accuracy: 0.7151 - val_loss: 0.4810 - val_accuracy: 0.8352\n",
      "Epoch 2/5\n",
      "399/399 [==============================] - 80s 200ms/step - loss: 0.3659 - accuracy: 0.8470 - val_loss: 0.3498 - val_accuracy: 0.8489\n",
      "Epoch 3/5\n",
      "399/399 [==============================] - 79s 199ms/step - loss: 0.3246 - accuracy: 0.8650 - val_loss: 0.3509 - val_accuracy: 0.8507\n",
      "Epoch 4/5\n",
      "399/399 [==============================] - 79s 197ms/step - loss: 0.2989 - accuracy: 0.8749 - val_loss: 0.3483 - val_accuracy: 0.8512\n",
      "Epoch 5/5\n",
      "399/399 [==============================] - 79s 199ms/step - loss: 0.2799 - accuracy: 0.8837 - val_loss: 0.3609 - val_accuracy: 0.8496\n"
     ]
    }
   ],
   "source": [
    "s_uni_model = s_uni_model(vocab_size, embedding_size, units, drop_rate)\n",
    "\n",
    "s_uni_model.compile(optimizer='adam',\n",
    "              loss='binary_crossentropy',\n",
    "              metrics=['accuracy'])\n",
    "\n",
    "es = keras.callbacks.EarlyStopping(monitor='val_loss', patience=5, verbose=1)\n",
    "\n",
    "s_uni_history = s_uni_model.fit(x_train, y_train, batch_size=batch_size,\\\n",
    "                    verbose='auto', epochs=epochs,\\\n",
    "                    validation_data=(x_val, y_val), callbacks=[es])"
   ]
  },
  {
   "cell_type": "markdown",
   "id": "2d3f264a",
   "metadata": {},
   "source": [
    "- 학습은 5epochs만 진행하였습니다."
   ]
  },
  {
   "cell_type": "markdown",
   "id": "e59c21c9",
   "metadata": {},
   "source": [
    "---\n",
    "## 5. Sentence piece unigram 모델 결과 확인"
   ]
  },
  {
   "cell_type": "code",
   "execution_count": 32,
   "id": "f251f305",
   "metadata": {},
   "outputs": [
    {
     "name": "stdout",
     "output_type": "stream",
     "text": [
      "1334/1334 - 17s - loss: 0.3556 - accuracy: 0.8524\n"
     ]
    }
   ],
   "source": [
    "s_uni_test = s_uni_model.evaluate(x_test, y_test, verbose=2)"
   ]
  },
  {
   "cell_type": "code",
   "execution_count": 33,
   "id": "df489245",
   "metadata": {},
   "outputs": [
    {
     "data": {
      "image/png": "[encoded data removed]",
      "text/plain": [
       "<Figure size 432x288 with 1 Axes>"
      ]
     },
     "metadata": {
      "needs_background": "light"
     },
     "output_type": "display_data"
    }
   ],
   "source": [
    "s_uni_history_dict = s_uni_history.history\n",
    "\n",
    "s_uni_acc = s_uni_history_dict['accuracy']\n",
    "s_uni_val_acc = s_uni_history_dict['val_accuracy']\n",
    "s_uni_loss = s_uni_history_dict['loss']\n",
    "s_uni_val_loss = s_uni_history_dict['val_loss']\n",
    "\n",
    "epoch = range(1, len(s_uni_acc) + 1)\n",
    "\n",
    "plt.plot(epoch, s_uni_loss, 'r', label='Training loss')\n",
    "plt.plot(epoch, s_uni_val_loss, 'b', label='Validation loss')\n",
    "plt.plot(epoch, s_uni_acc, 'bo', label='Training acc')\n",
    "plt.plot(epoch, s_uni_val_acc, 'ro', label='Validation acc')\n",
    "plt.title('SPM unigram')\n",
    "plt.xlabel('Epochs')\n",
    "plt.ylabel('Loss')\n",
    "plt.legend()\n",
    "\n",
    "plt.show()"
   ]
  },
  {
   "cell_type": "markdown",
   "id": "119ef816",
   "metadata": {},
   "source": [
    "- loss도 우하향하는 모습을 보여주며 accuracy도 상승하는 모습을 보여주나 어느정도 overfitting을 완전히 잡지는 못한듯한 모습을 보여줍니다.\n",
    "- 그래도 test 데이터셋에 대해서도 85% 의 정확도를 보여줍니다."
   ]
  },
  {
   "cell_type": "markdown",
   "id": "959c0cda",
   "metadata": {},
   "source": [
    "---\n",
    "## 6. Sentence piece BPE 모델 구성 및 학습"
   ]
  },
  {
   "cell_type": "code",
   "execution_count": 34,
   "id": "bca7a4e0",
   "metadata": {
    "scrolled": false
   },
   "outputs": [],
   "source": [
    "# with open(temp_file, 'w') as f:\n",
    "#     for row in train['document']:\n",
    "#         f.write(str(row) + '\\n')\n",
    "\n",
    "# spm.SentencePieceTrainer.Train(\n",
    "#     '--input={} --model_prefix=korean_spm_bpe --model_type=bpe --vocab_size={}'.format(temp_file, vocab_size)    \n",
    "# )\n",
    "\n",
    "# !ls -l korean_spm_bpe*"
   ]
  },
  {
   "cell_type": "code",
   "execution_count": 35,
   "id": "7c18959a",
   "metadata": {},
   "outputs": [],
   "source": [
    "# s_bpe = spm.SentencePieceProcessor()\n",
    "# s_bpe.Load('korean_spm_bpe.model')\n",
    "\n",
    "# tokensIDs = s_bpe.EncodeAsIds('아버지가방에들어가신다.')\n",
    "# print(tokensIDs)\n",
    "\n",
    "# print(s_bpe.SampleEncodeAsPieces('아버지가방에들어가신다.',1, 0.0))\n",
    "\n",
    "# print(s_bpe.DecodeIds(tokensIDs))"
   ]
  },
  {
   "cell_type": "code",
   "execution_count": 36,
   "id": "75145db7",
   "metadata": {},
   "outputs": [],
   "source": [
    "# x_train, y_train, bpe_word_to_idx, bpe_idx_to_word = sp_tokenize(s_bpe, train)\n",
    "# x_test, y_test, _, _ = sp_tokenize(s_bpe, test)"
   ]
  },
  {
   "cell_type": "code",
   "execution_count": 37,
   "id": "dc38bae4",
   "metadata": {},
   "outputs": [],
   "source": [
    "# max_min_len(x_train, 'Train')\n",
    "# max_min_len(x_test, 'Test')"
   ]
  },
  {
   "cell_type": "code",
   "execution_count": 38,
   "id": "5d19009c",
   "metadata": {},
   "outputs": [],
   "source": [
    "# x_train, y_train = clear_sentence(x_train, y_train, min_num = 1, max_num=25)\n",
    "# x_test, y_test = clear_sentence(x_test, y_test, min_num=1, max_num = 25, name='Test')"
   ]
  },
  {
   "cell_type": "code",
   "execution_count": 39,
   "id": "2ce8ef3c",
   "metadata": {},
   "outputs": [],
   "source": [
    "# max_min_len(x_train, 'Train')\n",
    "# max_min_len(x_test, 'Test')"
   ]
  },
  {
   "cell_type": "code",
   "execution_count": 40,
   "id": "007a0cd2",
   "metadata": {},
   "outputs": [],
   "source": [
    "# x_train = tf.keras.preprocessing.sequence.pad_sequences(x_train, padding='post', maxlen= 25)\n",
    "# x_test = tf.keras.preprocessing.sequence.pad_sequences(x_test, padding='post', maxlen= 25)"
   ]
  },
  {
   "cell_type": "code",
   "execution_count": 41,
   "id": "75a14833",
   "metadata": {},
   "outputs": [],
   "source": [
    "# x_train, x_val, y_train, y_val = train_test_split(x_train,\n",
    "#                                                   y_train,\n",
    "#                                                   test_size=0.2,\n",
    "#                                                   random_state=42)"
   ]
  },
  {
   "cell_type": "code",
   "execution_count": 42,
   "id": "3b534640",
   "metadata": {},
   "outputs": [],
   "source": [
    "# print(' 훈련 데이터셋의 길이: ',len(x_train),'\\n', '벨리데이션 데이터셋의 길이: ', len(x_val))\n",
    "# print('----'*32)\n",
    "# print(' 훈련 라벨데이터셋의 길이: ', len(y_train), '\\n', '벨리데이션 라벨데이터셋의 길이: ', len(y_val))\n",
    "# print('----'*32)"
   ]
  },
  {
   "cell_type": "code",
   "execution_count": 43,
   "id": "3b3c391c",
   "metadata": {},
   "outputs": [],
   "source": [
    "# class s_bpe_model(keras.Model):\n",
    "#     def __init__(self, vocab_size, embedding_size, units):\n",
    "#         super().__init__()\n",
    "#         self.Embedding = Embedding(vocab_size, embedding_size, mask_zero=True)\n",
    "#         self.lstm1 = LSTM(units, return_sequences=True, activation='tanh')\n",
    "#         self.batch1 = BatchNormalization()\n",
    "#         self.drop1 = Dropout(0.3)\n",
    "#         self.lstm2 = LSTM(units*2, return_sequences=True, activation='tanh')\n",
    "#         self.batch2 = BatchNormalization()\n",
    "#         self.drop2 = Dropout(0.3)\n",
    "#         self.lstm3 = LSTM(units*4, activation = 'tanh')\n",
    "#         self.batch3 = BatchNormalization()\n",
    "#         self.drop3 = Dropout(0.3)\n",
    "#         self.dense = Dense(1, activation='sigmoid')\n",
    "        \n",
    "#     def call(self, x):\n",
    "#         x = self.Embedding(x)\n",
    "#         x = self.lstm1(x)\n",
    "#         x = self.batch1(x)\n",
    "#         x = self.drop1(x)\n",
    "#         x = self.lstm2(x)\n",
    "#         x = self.batch2(x)\n",
    "#         x = self.drop2(x)\n",
    "#         x = self.lstm3(x)\n",
    "#         x = self.batch3(x)\n",
    "#         x = self.drop3(x)\n",
    "#         x = self.dense(x)\n",
    "        \n",
    "#         return x"
   ]
  },
  {
   "cell_type": "code",
   "execution_count": 44,
   "id": "5b348563",
   "metadata": {},
   "outputs": [],
   "source": [
    "# s_bpe_model = s_bpe_model(vocab_size, embedding_size, units)\n",
    "\n",
    "# s_bpe_model.compile(optimizer='adam',\n",
    "#               loss='binary_crossentropy',\n",
    "#               metrics=['accuracy'])\n",
    "\n",
    "# es = keras.callbacks.EarlyStopping(monitor='val_loss', patience=2, verbose=1)\n",
    "\n",
    "# s_bpe_history = s_bpe_model.fit(x_train, y_train, batch_size=batch_size,\\\n",
    "#                     verbose='auto', epochs=epochs,\\\n",
    "#                     validation_data=(x_val, y_val), callbacks=[es])"
   ]
  },
  {
   "cell_type": "markdown",
   "id": "ce5ab647",
   "metadata": {},
   "source": [
    "---\n",
    "## 6.1 결과 확인하기"
   ]
  },
  {
   "cell_type": "code",
   "execution_count": 45,
   "id": "e130a973",
   "metadata": {},
   "outputs": [],
   "source": [
    "# s_bpe_history_dict = s_bpe_history.history\n",
    "\n",
    "# s_bpe_acc = s_bpe_history_dict['accuracy']\n",
    "# s_bpe_val_acc = s_bpe_history_dict['val_accuracy']\n",
    "# s_bpe_loss = s_bpe_history_dict['loss']\n",
    "# s_bpe_val_loss = s_bpe_history_dict['val_loss']\n",
    "\n",
    "# epoch = range(1, len(s_bpe_acc) + 1)\n",
    "\n",
    "# plt.plot(epoch, s_bpe_loss, 'r', label='Training loss')\n",
    "# plt.plot(epoch, s_bpe_val_loss, 'b', label='Validation loss')\n",
    "# plt.plot(epoch, s_bpe_acc, 'bo', label='Training acc')\n",
    "# plt.plot(epoch, s_bpe_val_acc, 'ro', label='Validation acc')\n",
    "# plt.title('SPM BPE')\n",
    "# plt.xlabel('Epochs')\n",
    "# plt.ylabel('Loss')\n",
    "# plt.legend()\n",
    "\n",
    "# plt.show()"
   ]
  },
  {
   "cell_type": "markdown",
   "id": "f3f440cf",
   "metadata": {},
   "source": [
    "- BPE 모델은 load가 되지않아 실습해보지 못했습니다."
   ]
  },
  {
   "cell_type": "markdown",
   "id": "0444e36c",
   "metadata": {},
   "source": [
    "---\n",
    "## 7. 다른 형태소 분석기 사용하기"
   ]
  },
  {
   "cell_type": "markdown",
   "id": "bc4fd561",
   "metadata": {},
   "source": [
    "## 7.1 Mecab 모델"
   ]
  },
  {
   "cell_type": "code",
   "execution_count": 46,
   "id": "0eebf08c",
   "metadata": {},
   "outputs": [],
   "source": [
    "def mecab_token(df, df2, num_words = 25000):\n",
    "    mecab = Mecab()\n",
    "    x_train = []\n",
    "    \n",
    "    df_len = len(df)\n",
    "    df = pd.concat([df, df2], axis=0)\n",
    "    df.reset_index(inplace=True)\n",
    "    \n",
    "    for i in tqdm(range(len(df))):\n",
    "        x_train.append(mecab.morphs(df['document'][i]))\n",
    "        \n",
    "    tokenizer = tf.keras.preprocessing.text.Tokenizer(num_words, filters=\" \", char_level=True)\n",
    "    \n",
    "    tokenizer.fit_on_texts(x_train)\n",
    "    \n",
    "    \n",
    "    x_train = tokenizer.texts_to_sequences(x_train)\n",
    "    x_train = np.array(list(x_train))\n",
    "    \n",
    "    x_train, x_test = x_train[:df_len], x_train[df_len:]\n",
    "    y_train, y_test = np.array(df['label'][:df_len]), np.array(df['label'][df_len:])\n",
    "    \n",
    "    return x_train, y_train, x_test, y_test, tokenizer"
   ]
  },
  {
   "cell_type": "markdown",
   "id": "933ea599",
   "metadata": {},
   "source": [
    "- mecab tokenizer 함수를 만들었습니다."
   ]
  },
  {
   "cell_type": "code",
   "execution_count": 47,
   "id": "2edde84c",
   "metadata": {},
   "outputs": [
    {
     "name": "stderr",
     "output_type": "stream",
     "text": [
      "100%|██████████| 195339/195339 [00:24<00:00, 8012.82it/s]\n"
     ]
    }
   ],
   "source": [
    "x_train, y_train, x_test, y_test, mecab_token = mecab_token(train, test)"
   ]
  },
  {
   "cell_type": "code",
   "execution_count": 48,
   "id": "0d68f080",
   "metadata": {},
   "outputs": [],
   "source": [
    "mecab_word_to_idx = {}\n",
    "mecab_idx_to_word = {}\n",
    "for i, v in mecab_token.index_word.items():\n",
    "    mecab_word_to_idx[v] = i\n",
    "    mecab_idx_to_word[i] = v"
   ]
  },
  {
   "cell_type": "markdown",
   "id": "949b0d50",
   "metadata": {},
   "source": [
    "- word_to_idx 사전과 idx_to_word 사전을 만들었습니다."
   ]
  },
  {
   "cell_type": "code",
   "execution_count": 49,
   "id": "acb64e8d",
   "metadata": {},
   "outputs": [
    {
     "name": "stderr",
     "output_type": "stream",
     "text": [
      "100%|██████████| 146182/146182 [00:00<00:00, 847344.56it/s]\n"
     ]
    },
    {
     "name": "stdout",
     "output_type": "stream",
     "text": [
      "Train 데이터셋의 최대 길이: 116\n",
      "Train 데이터셋의 최소 길이: 0\n",
      "Train 데이터셋의 평균 길이: 17\n",
      "Train 데이터셋의 총 길이: 2615982\n",
      "--------------------------------------------------------------------------------------------------------------------------------\n"
     ]
    },
    {
     "data": {
      "image/png": "[encoded data removed]",
      "text/plain": [
       "<Figure size 432x288 with 1 Axes>"
      ]
     },
     "metadata": {
      "needs_background": "light"
     },
     "output_type": "display_data"
    },
    {
     "name": "stderr",
     "output_type": "stream",
     "text": [
      "100%|██████████| 49157/49157 [00:00<00:00, 806850.70it/s]\n"
     ]
    },
    {
     "name": "stdout",
     "output_type": "stream",
     "text": [
      "Test 데이터셋의 최대 길이: 98\n",
      "Test 데이터셋의 최소 길이: 0\n",
      "Test 데이터셋의 평균 길이: 18\n",
      "Test 데이터셋의 총 길이: 886790\n",
      "--------------------------------------------------------------------------------------------------------------------------------\n"
     ]
    },
    {
     "data": {
      "image/png": "[encoded data removed]",
      "text/plain": [
       "<Figure size 432x288 with 1 Axes>"
      ]
     },
     "metadata": {
      "needs_background": "light"
     },
     "output_type": "display_data"
    }
   ],
   "source": [
    "max_min_len(x_train, 'Train')\n",
    "max_min_len(x_test, 'Test')"
   ]
  },
  {
   "cell_type": "markdown",
   "id": "e9f84a50",
   "metadata": {},
   "source": [
    "- 길이 분포로 약 25가 적당해보이는군요"
   ]
  },
  {
   "cell_type": "code",
   "execution_count": 50,
   "id": "458db685",
   "metadata": {},
   "outputs": [
    {
     "name": "stderr",
     "output_type": "stream",
     "text": [
      "146182it [00:00, 970132.89it/s]\n"
     ]
    },
    {
     "name": "stdout",
     "output_type": "stream",
     "text": [
      "--------------------------------------------------------------------------------------------------------------------------------\n",
      "전처리 전 Train 데이터의 길이: 146182\n",
      "전처리 후 Train 데이터의 길이: 117631\n",
      "--------------------------------------------------------------------------------------------------------------------------------\n"
     ]
    },
    {
     "name": "stderr",
     "output_type": "stream",
     "text": [
      "49157it [00:00, 877919.53it/s]"
     ]
    },
    {
     "name": "stdout",
     "output_type": "stream",
     "text": [
      "--------------------------------------------------------------------------------------------------------------------------------\n",
      "전처리 전 Test 데이터의 길이: 49157\n",
      "전처리 후 Test 데이터의 길이: 39433\n",
      "--------------------------------------------------------------------------------------------------------------------------------\n"
     ]
    },
    {
     "name": "stderr",
     "output_type": "stream",
     "text": [
      "\n"
     ]
    }
   ],
   "source": [
    "x_train, y_train = clear_sentence(x_train, y_train, min_num = 1, max_num = 25)\n",
    "x_test, y_test = clear_sentence(x_test, y_test, min_num = 1, max_num = 25, name='Test')"
   ]
  },
  {
   "cell_type": "code",
   "execution_count": 51,
   "id": "64dcd69e",
   "metadata": {},
   "outputs": [],
   "source": [
    "x_train = tf.keras.preprocessing.sequence.pad_sequences(x_train, padding='post', maxlen= 25)\n",
    "x_test = tf.keras.preprocessing.sequence.pad_sequences(x_test, padding='post', maxlen= 25)"
   ]
  },
  {
   "cell_type": "markdown",
   "id": "9abd95b7",
   "metadata": {},
   "source": [
    "- 길이분포 조절을 해주고 패딩을 해주었습니다."
   ]
  },
  {
   "cell_type": "code",
   "execution_count": 52,
   "id": "1633392d",
   "metadata": {},
   "outputs": [],
   "source": [
    "x_train, x_val, y_train, y_val = train_test_split(x_train,\n",
    "                                                  y_train,\n",
    "                                                  test_size=0.2,\n",
    "                                                  random_state=42)"
   ]
  },
  {
   "cell_type": "code",
   "execution_count": 53,
   "id": "dd5607d6",
   "metadata": {},
   "outputs": [
    {
     "name": "stdout",
     "output_type": "stream",
     "text": [
      " 훈련 데이터셋의 길이:  94104 \n",
      " 벨리데이션 데이터셋의 길이:  23527\n",
      "--------------------------------------------------------------------------------------------------------------------------------\n",
      " 훈련 라벨데이터셋의 길이:  94104 \n",
      " 벨리데이션 라벨데이터셋의 길이:  23527\n",
      "--------------------------------------------------------------------------------------------------------------------------------\n"
     ]
    }
   ],
   "source": [
    "print(' 훈련 데이터셋의 길이: ',len(x_train),'\\n', '벨리데이션 데이터셋의 길이: ', len(x_val))\n",
    "print('----'*32)\n",
    "print(' 훈련 라벨데이터셋의 길이: ', len(y_train), '\\n', '벨리데이션 라벨데이터셋의 길이: ', len(y_val))\n",
    "print('----'*32)"
   ]
  },
  {
   "cell_type": "code",
   "execution_count": 54,
   "id": "c838b0da",
   "metadata": {},
   "outputs": [],
   "source": [
    "class mecab_model(keras.Model):\n",
    "    def __init__(self, vocab_size, embedding_size, units, drop_rate):\n",
    "        super().__init__()\n",
    "        self.Embedding = Embedding(vocab_size, embedding_size, mask_zero=True)\n",
    "        self.lstm1 = LSTM(units, return_sequences=True, activation='tanh', dropout=drop_rate)\n",
    "        self.batch1 = BatchNormalization()\n",
    "        self.drop1 = Dropout(drop_rate)\n",
    "        self.lstm2 = LSTM(units*2, activation='tanh', dropout=drop_rate)\n",
    "        self.batch2 = BatchNormalization()\n",
    "        self.drop2 = Dropout(drop_rate)\n",
    "        self.dense = Dense(1, activation='sigmoid')\n",
    "        \n",
    "    def call(self, x):\n",
    "        x = self.Embedding(x)\n",
    "        x = self.lstm1(x)\n",
    "        x = self.batch1(x)\n",
    "        x = self.drop1(x)\n",
    "        x = self.lstm2(x)\n",
    "        x = self.batch2(x)\n",
    "        x = self.drop2(x)\n",
    "        x = self.dense(x)\n",
    "        \n",
    "        return x"
   ]
  },
  {
   "cell_type": "markdown",
   "id": "c4cca4bb",
   "metadata": {},
   "source": [
    "- Sentencepiece와 동일한 모델을 사용하였습니다."
   ]
  },
  {
   "cell_type": "code",
   "execution_count": 55,
   "id": "8fc9d330",
   "metadata": {},
   "outputs": [
    {
     "name": "stdout",
     "output_type": "stream",
     "text": [
      "Epoch 1/5\n",
      "368/368 [==============================] - 20s 29ms/step - loss: 0.5517 - accuracy: 0.7406 - val_loss: 0.5021 - val_accuracy: 0.8382\n",
      "Epoch 2/5\n",
      "368/368 [==============================] - 8s 21ms/step - loss: 0.3728 - accuracy: 0.8398 - val_loss: 0.3569 - val_accuracy: 0.8428\n",
      "Epoch 3/5\n",
      "368/368 [==============================] - 8s 21ms/step - loss: 0.3269 - accuracy: 0.8623 - val_loss: 0.3643 - val_accuracy: 0.8449\n",
      "Epoch 4/5\n",
      "368/368 [==============================] - 8s 21ms/step - loss: 0.2983 - accuracy: 0.8740 - val_loss: 0.3762 - val_accuracy: 0.8462\n",
      "Epoch 5/5\n",
      "368/368 [==============================] - 8s 21ms/step - loss: 0.2755 - accuracy: 0.8853 - val_loss: 0.3768 - val_accuracy: 0.8474\n"
     ]
    }
   ],
   "source": [
    "mecab_model = mecab_model(vocab_size, embedding_size, units, drop_rate)\n",
    "\n",
    "mecab_model.compile(optimizer='adam',\n",
    "              loss='binary_crossentropy',\n",
    "              metrics=['accuracy'])\n",
    "\n",
    "mecab_history = mecab_model.fit(x_train, y_train, batch_size=batch_size,\\\n",
    "                    verbose='auto', epochs=epochs,\\\n",
    "                    validation_data=(x_val, y_val), callbacks=[es])"
   ]
  },
  {
   "cell_type": "code",
   "execution_count": 56,
   "id": "66cb0b03",
   "metadata": {},
   "outputs": [
    {
     "name": "stdout",
     "output_type": "stream",
     "text": [
      "1233/1233 - 7s - loss: 0.3836 - accuracy: 0.8442\n"
     ]
    }
   ],
   "source": [
    "mecab_test = mecab_model.evaluate(x_test, y_test, verbose=2)"
   ]
  },
  {
   "cell_type": "code",
   "execution_count": 57,
   "id": "71d351b5",
   "metadata": {},
   "outputs": [
    {
     "data": {
      "image/png": "[encoded data removed]",
      "text/plain": [
       "<Figure size 432x288 with 1 Axes>"
      ]
     },
     "metadata": {
      "needs_background": "light"
     },
     "output_type": "display_data"
    }
   ],
   "source": [
    "mecab_history_dict = mecab_history.history\n",
    "\n",
    "mecab_acc = mecab_history_dict['accuracy']\n",
    "mecab_val_acc = mecab_history_dict['val_accuracy']\n",
    "mecab_loss = mecab_history_dict['loss']\n",
    "mecab_val_loss = mecab_history_dict['val_loss']\n",
    "\n",
    "epoch = range(1, len(mecab_acc) + 1)\n",
    "\n",
    "plt.plot(epoch, mecab_loss, 'r', label='Training loss')\n",
    "plt.plot(epoch, mecab_val_loss, 'b', label='Validation loss')\n",
    "plt.plot(epoch, mecab_acc, 'bo', label='Training acc')\n",
    "plt.plot(epoch, mecab_val_acc, 'ro', label='Validation acc')\n",
    "plt.title('Mecab')\n",
    "plt.xlabel('Epochs')\n",
    "plt.ylabel('Loss')\n",
    "plt.legend()\n",
    "\n",
    "plt.show()"
   ]
  },
  {
   "cell_type": "markdown",
   "id": "88b3ea3b",
   "metadata": {},
   "source": [
    "- 약 84%라는 좋은 수치를 이끌어냈군요.\n",
    "- 그래프도 약간 아쉽지만 나쁘지 않습니다."
   ]
  },
  {
   "cell_type": "markdown",
   "id": "9b3b2d2e",
   "metadata": {},
   "source": [
    "---\n",
    "## 7.2 Komoran 모델"
   ]
  },
  {
   "cell_type": "code",
   "execution_count": 58,
   "id": "b52f8a7e",
   "metadata": {},
   "outputs": [],
   "source": [
    "def komoran_token(df, df2, num_words = 25000):\n",
    "    komoran = Komoran()\n",
    "    x_train = []\n",
    "    \n",
    "    df_len = len(df)\n",
    "    df = pd.concat([df, df2], axis=0)\n",
    "    df.reset_index(inplace=True)\n",
    "    \n",
    "    for i in tqdm(range(len(df))):\n",
    "        x_train.append(komoran.morphs(df['document'][i]))\n",
    "        \n",
    "    tokenizer = tf.keras.preprocessing.text.Tokenizer(num_words, filters=\" \", char_level=True)\n",
    "    \n",
    "    tokenizer.fit_on_texts(x_train)\n",
    "    \n",
    "    \n",
    "    x_train = tokenizer.texts_to_sequences(x_train)\n",
    "    x_train = np.array(list(x_train))\n",
    "    \n",
    "    x_train, x_test = x_train[:df_len], x_train[df_len:]\n",
    "    y_train, y_test = np.array(df['label'][:df_len]), np.array(df['label'][df_len:])\n",
    "    \n",
    "    return x_train, y_train, x_test, y_test, tokenizer"
   ]
  },
  {
   "cell_type": "code",
   "execution_count": 59,
   "id": "011d2a16",
   "metadata": {},
   "outputs": [
    {
     "name": "stderr",
     "output_type": "stream",
     "text": [
      "100%|██████████| 195339/195339 [02:52<00:00, 1131.21it/s]\n"
     ]
    }
   ],
   "source": [
    "x_train, y_train, x_test, y_test, komoran_token = komoran_token(train, test)"
   ]
  },
  {
   "cell_type": "code",
   "execution_count": 60,
   "id": "62621729",
   "metadata": {},
   "outputs": [],
   "source": [
    "komoran_word_to_idx = {}\n",
    "komoran_idx_to_word = {}\n",
    "for i, v in komoran_token.index_word.items():\n",
    "    komoran_word_to_idx[v] = i\n",
    "    komoran_idx_to_word[i] = v"
   ]
  },
  {
   "cell_type": "code",
   "execution_count": 61,
   "id": "1b17673a",
   "metadata": {},
   "outputs": [
    {
     "name": "stderr",
     "output_type": "stream",
     "text": [
      "100%|██████████| 146182/146182 [00:00<00:00, 971924.47it/s]\n"
     ]
    },
    {
     "name": "stdout",
     "output_type": "stream",
     "text": [
      "Train 데이터셋의 최대 길이: 109\n",
      "Train 데이터셋의 최소 길이: 0\n",
      "Train 데이터셋의 평균 길이: 14\n",
      "Train 데이터셋의 총 길이: 2172621\n",
      "--------------------------------------------------------------------------------------------------------------------------------\n"
     ]
    },
    {
     "data": {
      "image/png": "[encoded data removed]",
      "text/plain": [
       "<Figure size 432x288 with 1 Axes>"
      ]
     },
     "metadata": {
      "needs_background": "light"
     },
     "output_type": "display_data"
    },
    {
     "name": "stderr",
     "output_type": "stream",
     "text": [
      "100%|██████████| 49157/49157 [00:00<00:00, 987472.89it/s]\n"
     ]
    },
    {
     "name": "stdout",
     "output_type": "stream",
     "text": [
      "Test 데이터셋의 최대 길이: 108\n",
      "Test 데이터셋의 최소 길이: 0\n",
      "Test 데이터셋의 평균 길이: 14\n",
      "Test 데이터셋의 총 길이: 736782\n",
      "--------------------------------------------------------------------------------------------------------------------------------\n"
     ]
    },
    {
     "data": {
      "image/png": "[encoded data removed]",
      "text/plain": [
       "<Figure size 432x288 with 1 Axes>"
      ]
     },
     "metadata": {
      "needs_background": "light"
     },
     "output_type": "display_data"
    }
   ],
   "source": [
    "max_min_len(x_train, 'Train')\n",
    "max_min_len(x_test, 'Test')"
   ]
  },
  {
   "cell_type": "code",
   "execution_count": 62,
   "id": "6ef489a6",
   "metadata": {},
   "outputs": [
    {
     "name": "stderr",
     "output_type": "stream",
     "text": [
      "146182it [00:00, 965478.18it/s]\n"
     ]
    },
    {
     "name": "stdout",
     "output_type": "stream",
     "text": [
      "--------------------------------------------------------------------------------------------------------------------------------\n",
      "전처리 전 Train 데이터의 길이: 146182\n",
      "전처리 후 Train 데이터의 길이: 80443\n",
      "--------------------------------------------------------------------------------------------------------------------------------\n"
     ]
    },
    {
     "name": "stderr",
     "output_type": "stream",
     "text": [
      "49157it [00:00, 689761.61it/s]\n"
     ]
    },
    {
     "name": "stdout",
     "output_type": "stream",
     "text": [
      "--------------------------------------------------------------------------------------------------------------------------------\n",
      "전처리 전 Test 데이터의 길이: 49157\n",
      "전처리 후 Test 데이터의 길이: 26895\n",
      "--------------------------------------------------------------------------------------------------------------------------------\n"
     ]
    }
   ],
   "source": [
    "x_train, y_train = clear_sentence(x_train, y_train, min_num = 1, max_num = 20)\n",
    "x_test, y_test = clear_sentence(x_test, y_test, min_num = 1, max_num = 20, name='Test')"
   ]
  },
  {
   "cell_type": "code",
   "execution_count": 63,
   "id": "a4c07d22",
   "metadata": {},
   "outputs": [],
   "source": [
    "x_train = tf.keras.preprocessing.sequence.pad_sequences(x_train, padding='post', maxlen= 20)\n",
    "x_test = tf.keras.preprocessing.sequence.pad_sequences(x_test, padding='post', maxlen= 20)"
   ]
  },
  {
   "cell_type": "markdown",
   "id": "21a95539",
   "metadata": {},
   "source": [
    "- 위와 동일한 과정을 거쳐 약 20길이의 임의분포값을 얻었습니다."
   ]
  },
  {
   "cell_type": "code",
   "execution_count": 64,
   "id": "e71f7423",
   "metadata": {},
   "outputs": [],
   "source": [
    "x_train, x_val, y_train, y_val = train_test_split(x_train,\n",
    "                                                  y_train,\n",
    "                                                  test_size=0.2,\n",
    "                                                  random_state=42)"
   ]
  },
  {
   "cell_type": "code",
   "execution_count": 65,
   "id": "db8dbe5c",
   "metadata": {},
   "outputs": [
    {
     "name": "stdout",
     "output_type": "stream",
     "text": [
      " 훈련 데이터셋의 길이:  64354 \n",
      " 벨리데이션 데이터셋의 길이:  16089\n",
      "--------------------------------------------------------------------------------------------------------------------------------\n",
      " 훈련 라벨데이터셋의 길이:  64354 \n",
      " 벨리데이션 라벨데이터셋의 길이:  16089\n",
      "--------------------------------------------------------------------------------------------------------------------------------\n"
     ]
    }
   ],
   "source": [
    "print(' 훈련 데이터셋의 길이: ',len(x_train),'\\n', '벨리데이션 데이터셋의 길이: ', len(x_val))\n",
    "print('----'*32)\n",
    "print(' 훈련 라벨데이터셋의 길이: ', len(y_train), '\\n', '벨리데이션 라벨데이터셋의 길이: ', len(y_val))\n",
    "print('----'*32)"
   ]
  },
  {
   "cell_type": "code",
   "execution_count": 66,
   "id": "39cf5023",
   "metadata": {},
   "outputs": [],
   "source": [
    "class komoran_model(keras.Model):\n",
    "    def __init__(self, vocab_size, embedding_size, units, drop_rate):\n",
    "        super().__init__()\n",
    "        self.Embedding = Embedding(vocab_size, embedding_size, mask_zero=True)\n",
    "        self.lstm1 = LSTM(units, return_sequences=True, activation='tanh', dropout=drop_rate)\n",
    "        self.batch1 = BatchNormalization()\n",
    "        self.drop1 = Dropout(drop_rate)\n",
    "        self.lstm2 = LSTM(units*2, activation='tanh', dropout=drop_rate)\n",
    "        self.batch2 = BatchNormalization()\n",
    "        self.drop2 = Dropout(drop_rate)\n",
    "        self.dense = Dense(1, activation='sigmoid')\n",
    "        \n",
    "    def call(self, x):\n",
    "        x = self.Embedding(x)\n",
    "        x = self.lstm1(x)\n",
    "        x = self.batch1(x)\n",
    "        x = self.drop1(x)\n",
    "        x = self.lstm2(x)\n",
    "        x = self.batch2(x)\n",
    "        x = self.drop2(x)\n",
    "        x = self.dense(x)\n",
    "        \n",
    "        return x"
   ]
  },
  {
   "cell_type": "code",
   "execution_count": 67,
   "id": "66a9817e",
   "metadata": {},
   "outputs": [
    {
     "name": "stdout",
     "output_type": "stream",
     "text": [
      "Epoch 1/5\n",
      "252/252 [==============================] - 28s 44ms/step - loss: 0.5873 - accuracy: 0.7182 - val_loss: 0.6046 - val_accuracy: 0.7657\n",
      "Epoch 2/5\n",
      "252/252 [==============================] - 5s 21ms/step - loss: 0.3944 - accuracy: 0.8306 - val_loss: 0.4007 - val_accuracy: 0.8306\n",
      "Epoch 3/5\n",
      "252/252 [==============================] - 5s 21ms/step - loss: 0.3415 - accuracy: 0.8555 - val_loss: 0.3989 - val_accuracy: 0.8307\n",
      "Epoch 4/5\n",
      "252/252 [==============================] - 6s 23ms/step - loss: 0.3094 - accuracy: 0.8732 - val_loss: 0.3950 - val_accuracy: 0.8311\n",
      "Epoch 5/5\n",
      "252/252 [==============================] - 5s 21ms/step - loss: 0.2896 - accuracy: 0.8803 - val_loss: 0.3976 - val_accuracy: 0.8335\n"
     ]
    }
   ],
   "source": [
    "komoran_model = komoran_model(vocab_size, embedding_size, units, drop_rate)\n",
    "\n",
    "komoran_model.compile(optimizer='adam',\n",
    "              loss='binary_crossentropy',\n",
    "              metrics=['accuracy'])\n",
    "\n",
    "komoran_history = komoran_model.fit(x_train, y_train, batch_size=batch_size,\\\n",
    "                    verbose='auto', epochs=epochs,\\\n",
    "                    validation_data=(x_val, y_val), callbacks=[es])"
   ]
  },
  {
   "cell_type": "code",
   "execution_count": 68,
   "id": "6345b644",
   "metadata": {},
   "outputs": [
    {
     "name": "stdout",
     "output_type": "stream",
     "text": [
      "841/841 - 5s - loss: 0.3963 - accuracy: 0.8374\n"
     ]
    }
   ],
   "source": [
    "komoran_test = komoran_model.evaluate(x_test, y_test, verbose=2)"
   ]
  },
  {
   "cell_type": "code",
   "execution_count": 69,
   "id": "6737c98c",
   "metadata": {
    "scrolled": true
   },
   "outputs": [
    {
     "data": {
      "image/png": "[encoded data removed]",
      "text/plain": [
       "<Figure size 432x288 with 1 Axes>"
      ]
     },
     "metadata": {
      "needs_background": "light"
     },
     "output_type": "display_data"
    }
   ],
   "source": [
    "komoran_history_dict = komoran_history.history\n",
    "\n",
    "komoran_acc = komoran_history_dict['accuracy']\n",
    "komoran_val_acc = komoran_history_dict['val_accuracy']\n",
    "komoran_loss = komoran_history_dict['loss']\n",
    "komoran_val_loss = komoran_history_dict['val_loss']\n",
    "\n",
    "epoch = range(1, len(komoran_acc) + 1)\n",
    "\n",
    "plt.plot(epoch, komoran_loss, 'r', label='Training loss')\n",
    "plt.plot(epoch, komoran_val_loss, 'b', label='Validation loss')\n",
    "plt.plot(epoch, komoran_acc, 'bo', label='Training acc')\n",
    "plt.plot(epoch, komoran_val_acc, 'ro', label='Validation acc')\n",
    "plt.title('Komoran')\n",
    "plt.xlabel('Epochs')\n",
    "plt.ylabel('Loss')\n",
    "plt.legend()\n",
    "\n",
    "plt.show()"
   ]
  },
  {
   "cell_type": "markdown",
   "id": "8bb63f0e",
   "metadata": {},
   "source": [
    "- 약 val_acc, test_acc 모두 83% 정도의 정확도를 보여줍니다."
   ]
  },
  {
   "cell_type": "markdown",
   "id": "4bb0f729",
   "metadata": {},
   "source": [
    "---\n",
    "## 7.3 Okt 모델"
   ]
  },
  {
   "cell_type": "code",
   "execution_count": 70,
   "id": "e04d7e81",
   "metadata": {},
   "outputs": [],
   "source": [
    "def okt_token(df, df2, num_words = 25000):\n",
    "    okt = Okt()\n",
    "    x_train = []\n",
    "    \n",
    "    df_len = len(df)\n",
    "    df = pd.concat([df, df2], axis=0)\n",
    "    df.reset_index(inplace=True)\n",
    "    \n",
    "    for i in tqdm(range(len(df))):\n",
    "        x_train.append(okt.morphs(df['document'][i]))\n",
    "        \n",
    "    tokenizer = tf.keras.preprocessing.text.Tokenizer(num_words, filters=\" \", char_level=True)\n",
    "    \n",
    "    tokenizer.fit_on_texts(x_train)\n",
    "    \n",
    "    \n",
    "    x_train = tokenizer.texts_to_sequences(x_train)\n",
    "    x_train = np.array(list(x_train))\n",
    "    \n",
    "    x_train, x_test = x_train[:df_len], x_train[df_len:]\n",
    "    y_train, y_test = np.array(df['label'][:df_len]), np.array(df['label'][df_len:])\n",
    "    \n",
    "    return x_train, y_train, x_test, y_test, tokenizer"
   ]
  },
  {
   "cell_type": "code",
   "execution_count": 71,
   "id": "36e73f3f",
   "metadata": {},
   "outputs": [
    {
     "name": "stderr",
     "output_type": "stream",
     "text": [
      "100%|██████████| 195339/195339 [1:10:52<00:00, 45.93it/s]\n"
     ]
    }
   ],
   "source": [
    "x_train, y_train, x_test, y_test, okt_token = okt_token(train, test)"
   ]
  },
  {
   "cell_type": "code",
   "execution_count": 72,
   "id": "26370250",
   "metadata": {},
   "outputs": [],
   "source": [
    "okt_word_to_idx = {}\n",
    "okt_idx_to_word = {}\n",
    "for i, v in okt_token.index_word.items():\n",
    "    okt_word_to_idx[v] = i\n",
    "    okt_idx_to_word[i] = v"
   ]
  },
  {
   "cell_type": "code",
   "execution_count": 73,
   "id": "020d076f",
   "metadata": {},
   "outputs": [
    {
     "name": "stderr",
     "output_type": "stream",
     "text": [
      "100%|██████████| 146182/146182 [00:00<00:00, 927851.58it/s]\n"
     ]
    },
    {
     "name": "stdout",
     "output_type": "stream",
     "text": [
      "Train 데이터셋의 최대 길이: 76\n",
      "Train 데이터셋의 최소 길이: 0\n",
      "Train 데이터셋의 평균 길이: 12\n",
      "Train 데이터셋의 총 길이: 1899484\n",
      "--------------------------------------------------------------------------------------------------------------------------------\n"
     ]
    },
    {
     "data": {
      "image/png": "[encoded data removed]",
      "text/plain": [
       "<Figure size 432x288 with 1 Axes>"
      ]
     },
     "metadata": {
      "needs_background": "light"
     },
     "output_type": "display_data"
    },
    {
     "name": "stderr",
     "output_type": "stream",
     "text": [
      "100%|██████████| 49157/49157 [00:00<00:00, 776061.65it/s]\n"
     ]
    },
    {
     "name": "stdout",
     "output_type": "stream",
     "text": [
      "Test 데이터셋의 최대 길이: 76\n",
      "Test 데이터셋의 최소 길이: 0\n",
      "Test 데이터셋의 평균 길이: 13\n",
      "Test 데이터셋의 총 길이: 642458\n",
      "--------------------------------------------------------------------------------------------------------------------------------\n"
     ]
    },
    {
     "data": {
      "image/png": "[encoded data removed]",
      "text/plain": [
       "<Figure size 432x288 with 1 Axes>"
      ]
     },
     "metadata": {
      "needs_background": "light"
     },
     "output_type": "display_data"
    }
   ],
   "source": [
    "max_min_len(x_train, 'Train')\n",
    "max_min_len(x_test, 'Test')"
   ]
  },
  {
   "cell_type": "markdown",
   "id": "14cacbd4",
   "metadata": {},
   "source": [
    "- 위와 동일한 과정을 거쳐 약 25의 길이분포를 얻었습니다."
   ]
  },
  {
   "cell_type": "code",
   "execution_count": 74,
   "id": "75459f01",
   "metadata": {},
   "outputs": [
    {
     "name": "stderr",
     "output_type": "stream",
     "text": [
      "146182it [00:00, 992389.13it/s]\n"
     ]
    },
    {
     "name": "stdout",
     "output_type": "stream",
     "text": [
      "--------------------------------------------------------------------------------------------------------------------------------\n",
      "전처리 전 Train 데이터의 길이: 146182\n",
      "전처리 후 Train 데이터의 길이: 126719\n",
      "--------------------------------------------------------------------------------------------------------------------------------\n"
     ]
    },
    {
     "name": "stderr",
     "output_type": "stream",
     "text": [
      "49157it [00:00, 823143.76it/s]"
     ]
    },
    {
     "name": "stdout",
     "output_type": "stream",
     "text": [
      "--------------------------------------------------------------------------------------------------------------------------------\n",
      "전처리 전 Test 데이터의 길이: 49157\n",
      "전처리 후 Test 데이터의 길이: 42479\n",
      "--------------------------------------------------------------------------------------------------------------------------------\n"
     ]
    },
    {
     "name": "stderr",
     "output_type": "stream",
     "text": [
      "\n"
     ]
    }
   ],
   "source": [
    "x_train, y_train = clear_sentence(x_train, y_train, min_num = 1, max_num = 25)\n",
    "x_test, y_test = clear_sentence(x_test, y_test, min_num = 1, max_num = 25, name='Test')"
   ]
  },
  {
   "cell_type": "code",
   "execution_count": 75,
   "id": "60ce7e4d",
   "metadata": {},
   "outputs": [],
   "source": [
    "x_train = tf.keras.preprocessing.sequence.pad_sequences(x_train, padding='post', maxlen= 25)\n",
    "x_test = tf.keras.preprocessing.sequence.pad_sequences(x_test, padding='post', maxlen= 25)"
   ]
  },
  {
   "cell_type": "code",
   "execution_count": 76,
   "id": "53447e8c",
   "metadata": {},
   "outputs": [],
   "source": [
    "x_train, x_val, y_train, y_val = train_test_split(x_train,\n",
    "                                                  y_train,\n",
    "                                                  test_size=0.2,\n",
    "                                                  random_state=42)"
   ]
  },
  {
   "cell_type": "code",
   "execution_count": 77,
   "id": "6cc75bf7",
   "metadata": {},
   "outputs": [
    {
     "name": "stdout",
     "output_type": "stream",
     "text": [
      " 훈련 데이터셋의 길이:  101375 \n",
      " 벨리데이션 데이터셋의 길이:  25344\n",
      "--------------------------------------------------------------------------------------------------------------------------------\n",
      " 훈련 라벨데이터셋의 길이:  101375 \n",
      " 벨리데이션 라벨데이터셋의 길이:  25344\n",
      "--------------------------------------------------------------------------------------------------------------------------------\n"
     ]
    }
   ],
   "source": [
    "print(' 훈련 데이터셋의 길이: ',len(x_train),'\\n', '벨리데이션 데이터셋의 길이: ', len(x_val))\n",
    "print('----'*32)\n",
    "print(' 훈련 라벨데이터셋의 길이: ', len(y_train), '\\n', '벨리데이션 라벨데이터셋의 길이: ', len(y_val))\n",
    "print('----'*32)"
   ]
  },
  {
   "cell_type": "code",
   "execution_count": 78,
   "id": "7e58a74e",
   "metadata": {},
   "outputs": [],
   "source": [
    "class okt_model(keras.Model):\n",
    "    def __init__(self, vocab_size, embedding_size, units, drop_rate):\n",
    "        super().__init__()\n",
    "        self.Embedding = Embedding(vocab_size, embedding_size, mask_zero=True)\n",
    "        self.lstm1 = LSTM(units, return_sequences=True, activation='tanh', dropout=drop_rate)\n",
    "        self.batch1 = BatchNormalization()\n",
    "        self.drop1 = Dropout(drop_rate)\n",
    "        self.lstm2 = LSTM(units*2, activation='tanh', dropout=drop_rate)\n",
    "        self.batch2 = BatchNormalization()\n",
    "        self.drop2 = Dropout(drop_rate)\n",
    "        self.dense = Dense(1, activation='sigmoid')\n",
    "        \n",
    "    def call(self, x):\n",
    "        x = self.Embedding(x)\n",
    "        x = self.lstm1(x)\n",
    "        x = self.batch1(x)\n",
    "        x = self.drop1(x)\n",
    "        x = self.lstm2(x)\n",
    "        x = self.batch2(x)\n",
    "        x = self.drop2(x)\n",
    "        x = self.dense(x)\n",
    "        \n",
    "        return x"
   ]
  },
  {
   "cell_type": "code",
   "execution_count": 79,
   "id": "f339491f",
   "metadata": {
    "scrolled": true
   },
   "outputs": [
    {
     "name": "stdout",
     "output_type": "stream",
     "text": [
      "Epoch 1/5\n",
      "396/396 [==============================] - 40s 37ms/step - loss: 0.5736 - accuracy: 0.7235 - val_loss: 0.5016 - val_accuracy: 0.8325\n",
      "Epoch 2/5\n",
      "396/396 [==============================] - 9s 23ms/step - loss: 0.3636 - accuracy: 0.8451 - val_loss: 0.3595 - val_accuracy: 0.8438\n",
      "Epoch 3/5\n",
      "396/396 [==============================] - 9s 22ms/step - loss: 0.3144 - accuracy: 0.8683 - val_loss: 0.3724 - val_accuracy: 0.8437\n",
      "Epoch 4/5\n",
      "396/396 [==============================] - 9s 22ms/step - loss: 0.2859 - accuracy: 0.8817 - val_loss: 0.3908 - val_accuracy: 0.8404\n",
      "Epoch 5/5\n",
      "396/396 [==============================] - 9s 22ms/step - loss: 0.2644 - accuracy: 0.8914 - val_loss: 0.4039 - val_accuracy: 0.8416\n"
     ]
    }
   ],
   "source": [
    "okt_model = okt_model(vocab_size, embedding_size, units, drop_rate)\n",
    "\n",
    "okt_model.compile(optimizer='adam',\n",
    "              loss='binary_crossentropy',\n",
    "              metrics=['accuracy'])\n",
    "\n",
    "okt_history = okt_model.fit(x_train, y_train, batch_size=batch_size,\\\n",
    "                    verbose='auto', epochs=epochs,\\\n",
    "                    validation_data=(x_val, y_val), callbacks=[es])"
   ]
  },
  {
   "cell_type": "code",
   "execution_count": 80,
   "id": "bb7e64ad",
   "metadata": {},
   "outputs": [
    {
     "name": "stdout",
     "output_type": "stream",
     "text": [
      "1328/1328 - 17s - loss: 0.4078 - accuracy: 0.8412\n"
     ]
    }
   ],
   "source": [
    "okt_test = okt_model.evaluate(x_test, y_test, verbose=2)"
   ]
  },
  {
   "cell_type": "code",
   "execution_count": 81,
   "id": "e95814ba",
   "metadata": {},
   "outputs": [
    {
     "data": {
      "image/png": "[encoded data removed]",
      "text/plain": [
       "<Figure size 432x288 with 1 Axes>"
      ]
     },
     "metadata": {
      "needs_background": "light"
     },
     "output_type": "display_data"
    }
   ],
   "source": [
    "okt_history_dict = okt_history.history\n",
    "\n",
    "okt_acc = okt_history_dict['accuracy']\n",
    "okt_val_acc = okt_history_dict['val_accuracy']\n",
    "okt_loss = okt_history_dict['loss']\n",
    "okt_val_loss = okt_history_dict['val_loss']\n",
    "\n",
    "epoch = range(1, len(okt_acc) + 1)\n",
    "\n",
    "plt.plot(epoch, okt_loss, 'r', label='Training loss')\n",
    "plt.plot(epoch, okt_val_loss, 'b', label='Validation loss')\n",
    "plt.plot(epoch, okt_acc, 'bo', label='Training acc')\n",
    "plt.plot(epoch, okt_val_acc, 'ro', label='Validation acc')\n",
    "plt.title('Okt')\n",
    "plt.xlabel('Epochs')\n",
    "plt.ylabel('Loss')\n",
    "plt.legend()\n",
    "\n",
    "plt.show()"
   ]
  },
  {
   "cell_type": "markdown",
   "id": "57468313",
   "metadata": {},
   "source": [
    "- 약 84% 정확도를 보여줍니다.\n",
    "- 모두 비슷한 양상의 그래프를 보여주는군요."
   ]
  },
  {
   "cell_type": "markdown",
   "id": "8ebe66c8",
   "metadata": {},
   "source": [
    "---\n",
    "## 8. 종합 결과 확인"
   ]
  },
  {
   "cell_type": "code",
   "execution_count": 82,
   "id": "6e1f8913",
   "metadata": {},
   "outputs": [],
   "source": [
    "token_list = [s_uni_history_dict, mecab_history_dict, komoran_history_dict, okt_history_dict]\n",
    "token_names = ['Sentence_piece_unigram','Mecab', 'Komoran', 'Okt']\n",
    "acc_list = ['accuracy', 'val_accuracy']\n",
    "\n",
    "def acc_df(token_list, token_names, acc_list):\n",
    "    count = 0\n",
    "    for token in token_list:\n",
    "        for num in range(1):\n",
    "            if num == 1:\n",
    "                continue\n",
    "            s1 = round(pd.Series(token[acc_list[num]][-1], index=[token_names[count]]), 4)\n",
    "            s2 = round(pd.Series(token[acc_list[num+1]][-1], index=[token_names[count]]), 4)\n",
    "            if token == token_list[0]:\n",
    "                s = pd.concat([s1, s2], axis=1)\n",
    "            elif token != token_list[0]:\n",
    "                other = pd.concat([s1, s2], axis=1)\n",
    "                s = pd.concat([s, other], axis=0)\n",
    "            count += 1\n",
    "    s.rename(columns={0: acc_list[0], 1: acc_list[1]}, inplace=True)\n",
    "    \n",
    "    return s"
   ]
  },
  {
   "cell_type": "code",
   "execution_count": 83,
   "id": "160caf6e",
   "metadata": {},
   "outputs": [],
   "source": [
    "test_list = [s_uni_test, mecab_test, komoran_test, okt_test]\n",
    "\n",
    "def test_loss_acc(test_list, token_names):\n",
    "    count = 0\n",
    "    for test in test_list:\n",
    "        s1 = round(pd.Series(test[0], index=[token_names[count]]), 4)\n",
    "        s2 = round(pd.Series(test[1], index=[token_names[count]]), 4)\n",
    "        if test == test_list[0]:\n",
    "            s = pd.concat([s1, s2], axis=1)\n",
    "        elif test != test_list[0]:\n",
    "            other = pd.concat([s1, s2], axis=1)\n",
    "            s = pd.concat([s, other], axis=0)\n",
    "        count += 1\n",
    "    s.rename(columns={0: 'Test loss', 1:'Test Accuracy'}, inplace=True)\n",
    "    \n",
    "    return s"
   ]
  },
  {
   "cell_type": "markdown",
   "id": "e6bf97f4",
   "metadata": {},
   "source": [
    "- 결과값을 pandas 데이터프레임 형태로 보여주는 함수를 만들었습니다."
   ]
  },
  {
   "cell_type": "code",
   "execution_count": 84,
   "id": "0867a4d4",
   "metadata": {},
   "outputs": [
    {
     "data": {
      "text/html": [
       "<div>\n",
       "<style scoped>\n",
       "    .dataframe tbody tr th:only-of-type {\n",
       "        vertical-align: middle;\n",
       "    }\n",
       "\n",
       "    .dataframe tbody tr th {\n",
       "        vertical-align: top;\n",
       "    }\n",
       "\n",
       "    .dataframe thead th {\n",
       "        text-align: right;\n",
       "    }\n",
       "</style>\n",
       "<table border=\"1\" class=\"dataframe\">\n",
       "  <thead>\n",
       "    <tr style=\"text-align: right;\">\n",
       "      <th></th>\n",
       "      <th>accuracy</th>\n",
       "      <th>val_accuracy</th>\n",
       "    </tr>\n",
       "  </thead>\n",
       "  <tbody>\n",
       "    <tr>\n",
       "      <th>Sentence_piece_unigram</th>\n",
       "      <td>0.8837</td>\n",
       "      <td>0.8496</td>\n",
       "    </tr>\n",
       "    <tr>\n",
       "      <th>Mecab</th>\n",
       "      <td>0.8853</td>\n",
       "      <td>0.8474</td>\n",
       "    </tr>\n",
       "    <tr>\n",
       "      <th>Komoran</th>\n",
       "      <td>0.8803</td>\n",
       "      <td>0.8335</td>\n",
       "    </tr>\n",
       "    <tr>\n",
       "      <th>Okt</th>\n",
       "      <td>0.8914</td>\n",
       "      <td>0.8416</td>\n",
       "    </tr>\n",
       "  </tbody>\n",
       "</table>\n",
       "</div>"
      ],
      "text/plain": [
       "                        accuracy  val_accuracy\n",
       "Sentence_piece_unigram    0.8837        0.8496\n",
       "Mecab                     0.8853        0.8474\n",
       "Komoran                   0.8803        0.8335\n",
       "Okt                       0.8914        0.8416"
      ]
     },
     "execution_count": 84,
     "metadata": {},
     "output_type": "execute_result"
    }
   ],
   "source": [
    "result = acc_df(token_list, token_names, acc_list)\n",
    "\n",
    "result"
   ]
  },
  {
   "cell_type": "markdown",
   "id": "3a77a351",
   "metadata": {},
   "source": [
    "- train_acc 에서는 Okt\n",
    "- val_acc 에서는 Sentencepiece 가 가장 높은 수치를 보입니다."
   ]
  },
  {
   "cell_type": "code",
   "execution_count": 85,
   "id": "1d6d6390",
   "metadata": {},
   "outputs": [
    {
     "data": {
      "text/html": [
       "<div>\n",
       "<style scoped>\n",
       "    .dataframe tbody tr th:only-of-type {\n",
       "        vertical-align: middle;\n",
       "    }\n",
       "\n",
       "    .dataframe tbody tr th {\n",
       "        vertical-align: top;\n",
       "    }\n",
       "\n",
       "    .dataframe thead th {\n",
       "        text-align: right;\n",
       "    }\n",
       "</style>\n",
       "<table border=\"1\" class=\"dataframe\">\n",
       "  <thead>\n",
       "    <tr style=\"text-align: right;\">\n",
       "      <th></th>\n",
       "      <th>Test loss</th>\n",
       "      <th>Test Accuracy</th>\n",
       "    </tr>\n",
       "  </thead>\n",
       "  <tbody>\n",
       "    <tr>\n",
       "      <th>Sentence_piece_unigram</th>\n",
       "      <td>0.3556</td>\n",
       "      <td>0.8524</td>\n",
       "    </tr>\n",
       "    <tr>\n",
       "      <th>Mecab</th>\n",
       "      <td>0.3836</td>\n",
       "      <td>0.8442</td>\n",
       "    </tr>\n",
       "    <tr>\n",
       "      <th>Komoran</th>\n",
       "      <td>0.3963</td>\n",
       "      <td>0.8374</td>\n",
       "    </tr>\n",
       "    <tr>\n",
       "      <th>Okt</th>\n",
       "      <td>0.4078</td>\n",
       "      <td>0.8412</td>\n",
       "    </tr>\n",
       "  </tbody>\n",
       "</table>\n",
       "</div>"
      ],
      "text/plain": [
       "                        Test loss  Test Accuracy\n",
       "Sentence_piece_unigram     0.3556         0.8524\n",
       "Mecab                      0.3836         0.8442\n",
       "Komoran                    0.3963         0.8374\n",
       "Okt                        0.4078         0.8412"
      ]
     },
     "execution_count": 85,
     "metadata": {},
     "output_type": "execute_result"
    }
   ],
   "source": [
    "test_result = test_loss_acc(test_list, token_names)\n",
    "test_result"
   ]
  },
  {
   "cell_type": "markdown",
   "id": "2e7b375e",
   "metadata": {},
   "source": [
    "- test 데이터에 대해서는 모두 Sentencepiece가 가장 우세합니다."
   ]
  },
  {
   "cell_type": "code",
   "execution_count": 86,
   "id": "58edc38c",
   "metadata": {},
   "outputs": [
    {
     "data": {
      "text/html": [
       "<div>\n",
       "<style scoped>\n",
       "    .dataframe tbody tr th:only-of-type {\n",
       "        vertical-align: middle;\n",
       "    }\n",
       "\n",
       "    .dataframe tbody tr th {\n",
       "        vertical-align: top;\n",
       "    }\n",
       "\n",
       "    .dataframe thead th {\n",
       "        text-align: right;\n",
       "    }\n",
       "</style>\n",
       "<table border=\"1\" class=\"dataframe\">\n",
       "  <thead>\n",
       "    <tr style=\"text-align: right;\">\n",
       "      <th></th>\n",
       "      <th>accuracy</th>\n",
       "      <th>val_accuracy</th>\n",
       "      <th>Test loss</th>\n",
       "      <th>Test Accuracy</th>\n",
       "    </tr>\n",
       "  </thead>\n",
       "  <tbody>\n",
       "    <tr>\n",
       "      <th>Sentence_piece_unigram</th>\n",
       "      <td>0.8837</td>\n",
       "      <td>0.8496</td>\n",
       "      <td>0.3556</td>\n",
       "      <td>0.8524</td>\n",
       "    </tr>\n",
       "    <tr>\n",
       "      <th>Mecab</th>\n",
       "      <td>0.8853</td>\n",
       "      <td>0.8474</td>\n",
       "      <td>0.3836</td>\n",
       "      <td>0.8442</td>\n",
       "    </tr>\n",
       "    <tr>\n",
       "      <th>Komoran</th>\n",
       "      <td>0.8803</td>\n",
       "      <td>0.8335</td>\n",
       "      <td>0.3963</td>\n",
       "      <td>0.8374</td>\n",
       "    </tr>\n",
       "    <tr>\n",
       "      <th>Okt</th>\n",
       "      <td>0.8914</td>\n",
       "      <td>0.8416</td>\n",
       "      <td>0.4078</td>\n",
       "      <td>0.8412</td>\n",
       "    </tr>\n",
       "  </tbody>\n",
       "</table>\n",
       "</div>"
      ],
      "text/plain": [
       "                        accuracy  val_accuracy  Test loss  Test Accuracy\n",
       "Sentence_piece_unigram    0.8837        0.8496     0.3556         0.8524\n",
       "Mecab                     0.8853        0.8474     0.3836         0.8442\n",
       "Komoran                   0.8803        0.8335     0.3963         0.8374\n",
       "Okt                       0.8914        0.8416     0.4078         0.8412"
      ]
     },
     "execution_count": 86,
     "metadata": {},
     "output_type": "execute_result"
    }
   ],
   "source": [
    "total_result = pd.concat([result, test_result], axis=1)\n",
    "total_result"
   ]
  },
  {
   "cell_type": "markdown",
   "id": "d6c8cba1",
   "metadata": {},
   "source": [
    "- 종합적으로 보니 훨씬 깔끔하군요."
   ]
  },
  {
   "cell_type": "code",
   "execution_count": 92,
   "id": "35f159e6",
   "metadata": {},
   "outputs": [
    {
     "data": {
      "image/png": "[encoded data removed]",
      "text/plain": [
       "<Figure size 864x576 with 4 Axes>"
      ]
     },
     "metadata": {
      "needs_background": "light"
     },
     "output_type": "display_data"
    },
    {
     "data": {
      "text/html": [
       "<div>\n",
       "<style scoped>\n",
       "    .dataframe tbody tr th:only-of-type {\n",
       "        vertical-align: middle;\n",
       "    }\n",
       "\n",
       "    .dataframe tbody tr th {\n",
       "        vertical-align: top;\n",
       "    }\n",
       "\n",
       "    .dataframe thead th {\n",
       "        text-align: right;\n",
       "    }\n",
       "</style>\n",
       "<table border=\"1\" class=\"dataframe\">\n",
       "  <thead>\n",
       "    <tr style=\"text-align: right;\">\n",
       "      <th></th>\n",
       "      <th>accuracy</th>\n",
       "      <th>val_accuracy</th>\n",
       "      <th>Test loss</th>\n",
       "      <th>Test Accuracy</th>\n",
       "    </tr>\n",
       "  </thead>\n",
       "  <tbody>\n",
       "    <tr>\n",
       "      <th>Sentence_piece_unigram</th>\n",
       "      <td>0.8837</td>\n",
       "      <td>0.8496</td>\n",
       "      <td>0.3556</td>\n",
       "      <td>0.8524</td>\n",
       "    </tr>\n",
       "    <tr>\n",
       "      <th>Mecab</th>\n",
       "      <td>0.8853</td>\n",
       "      <td>0.8474</td>\n",
       "      <td>0.3836</td>\n",
       "      <td>0.8442</td>\n",
       "    </tr>\n",
       "    <tr>\n",
       "      <th>Komoran</th>\n",
       "      <td>0.8803</td>\n",
       "      <td>0.8335</td>\n",
       "      <td>0.3963</td>\n",
       "      <td>0.8374</td>\n",
       "    </tr>\n",
       "    <tr>\n",
       "      <th>Okt</th>\n",
       "      <td>0.8914</td>\n",
       "      <td>0.8416</td>\n",
       "      <td>0.4078</td>\n",
       "      <td>0.8412</td>\n",
       "    </tr>\n",
       "  </tbody>\n",
       "</table>\n",
       "</div>"
      ],
      "text/plain": [
       "                        accuracy  val_accuracy  Test loss  Test Accuracy\n",
       "Sentence_piece_unigram    0.8837        0.8496     0.3556         0.8524\n",
       "Mecab                     0.8853        0.8474     0.3836         0.8442\n",
       "Komoran                   0.8803        0.8335     0.3963         0.8374\n",
       "Okt                       0.8914        0.8416     0.4078         0.8412"
      ]
     },
     "execution_count": 92,
     "metadata": {},
     "output_type": "execute_result"
    }
   ],
   "source": [
    "fig, ax = plt.subplots(2,2, figsize=(12,8))\n",
    "\n",
    "result_epoch = range(len(s_uni_acc))\n",
    "\n",
    "plt.subplot(221)\n",
    "plt.plot(result_epoch, s_uni_acc, 'r', label='Sentence_piece_unigram')\n",
    "plt.plot(result_epoch, mecab_acc, 'b', label='Mecab')\n",
    "plt.plot(result_epoch, komoran_acc, 'g', label='Komoran')\n",
    "plt.plot(result_epoch, okt_acc, 'k', label='Okt')\n",
    "plt.title('Total Accuracy')\n",
    "plt.xlabel('Epochs')\n",
    "plt.ylabel('Accuracy')\n",
    "plt.legend()\n",
    "\n",
    "plt.subplot(222)\n",
    "plt.plot(result_epoch, s_uni_val_acc, 'r', label='Sentence_piece_unigram')\n",
    "plt.plot(result_epoch, mecab_val_acc, 'b', label='Mecab')\n",
    "plt.plot(result_epoch, komoran_val_acc, 'g', label='Komoran')\n",
    "plt.plot(result_epoch, okt_val_acc, 'k', label='Okt')\n",
    "plt.title('Total Validation Accuracy')\n",
    "plt.xlabel('Epochs')\n",
    "plt.ylabel('Validation Accuracy')\n",
    "plt.legend()\n",
    "\n",
    "plt.subplot(223)\n",
    "plt.plot(result_epoch, s_uni_loss, 'r', label='Sentence_piece_unigram')\n",
    "plt.plot(result_epoch, mecab_loss, 'b', label='Mecab')\n",
    "plt.plot(result_epoch, komoran_loss, 'g', label='Komoran')\n",
    "plt.plot(result_epoch, okt_loss, 'k', label='Okt')\n",
    "plt.title('Total Loss')\n",
    "plt.xlabel('Epochs')\n",
    "plt.ylabel('Loss')\n",
    "plt.legend()\n",
    "\n",
    "plt.subplot(224)\n",
    "plt.plot(result_epoch, s_uni_val_loss, 'r', label='Sentence_piece_unigram')\n",
    "plt.plot(result_epoch, mecab_val_loss, 'b', label='Mecab')\n",
    "plt.plot(result_epoch, komoran_val_loss, 'g', label='Komoran')\n",
    "plt.plot(result_epoch, okt_val_loss, 'k', label='Okt')\n",
    "plt.title('Total Validation Loss')\n",
    "plt.xlabel('Epochs')\n",
    "plt.ylabel('Validation Loss')\n",
    "plt.tight_layout(rect=(0,0,1,1.1))\n",
    "plt.legend()\n",
    "\n",
    "plt.show()\n",
    "\n",
    "total_result"
   ]
  },
  {
   "cell_type": "markdown",
   "id": "387637c9",
   "metadata": {},
   "source": [
    "- 그래프로 보니 모두 비슷한 느낌의 성향을 보여줍니다. 하지만 거의 모든 그래프에서 Sentencepiece가 가장 우세한걸 확인할 수 있습니다.\n",
    "- 대체적으로 Komoran이 아쉬운 느낌을 주는군요."
   ]
  },
  {
   "cell_type": "markdown",
   "id": "c8c7244d",
   "metadata": {},
   "source": [
    "---\n",
    "## 9. 회고"
   ]
  },
  {
   "cell_type": "markdown",
   "id": "a545709e",
   "metadata": {},
   "source": [
    "### 이번 프로젝트를 하면서 어려웠던 점\n",
    ">- 이번 프로젝트는 첫 going_deeper 프로젝트라 많이 걱정되었는데 특히나 SPM이라는 처음써보는 외부모델이어서 그런지 많이 낯설고 사용법도 어려웠습니다. 하지만 하다보니 적응도 되고 이번 프로젝트 자체가 생각했던 것보다 어렵지 않았고 오히려 예시코드가 없으니 마음대로 짜고 꾸밀수 있는것이 재밌게 다가왔습니다. \n",
    "### 이번 프로젝트에서 학습한 내용\n",
    ">- 이번 프로젝트에서는 특히나 Sentencepiece 모델에 관하여 많이 학습하게 된것 같습니다. 각각의 파라미터의 역할, 파라미터의 종류, 파라미터 호출 방법 또한 외부모델 사용법 등 학습한 내용이 상당히 많았고 이전에 사용하던 pandas, matplotlib 과 같은 라이브러리를 다시 한번 공부할 수 있어서 좋았습니다.\n",
    ">  \n",
    ">  \n",
    ">- 또한 신경망을 쌓는 과정에서 지금까지 제대로 써보지 못했던 subclassing model을 쌓아봤는데 은근 쌓는 과정이 재미도 있고 신기했습니다. 앞으로 많이 사용해보며 익숙해져야할듯 합니다. \n",
    "### 알아낸 점이나 모호한 점\n",
    ">- 많이 알아보았지만 Sentencepiece의 각 파라미터들의 정확한 기능은 확인하지 못했으며 사용해보려하면 오류가 뜨고 시간이 너무 오래걸리는 바람에 하지 못한것이 많습니다. 앞으로 사용하게 될 모델인지는 모르겠지만 천천히 알아보려 합니다.\n",
    "### 루브릭 평가지표를 맞추기 위해 노력했던 점\n",
    ">- __1. 코퍼스 분석, 전처리, SentencePiece 적용, 토크나이저 구현 및 동작이 빠짐없이 진행되었는가?__ 에 대해서는 코퍼스 분석, 전처리, Sentencepiece 적용, 토크나이저 등 모두 커스텀하여 구현하였고 동작이 잘 됨을 확인할 수 있었습니다.\n",
    ">- __2. SentencePiece 토크나이저가 적용된 Text Classifier 모델이 정상적으로 수렴하여 80% 이상의 test accuracy가 확인되었다.__ 에 대해서는 train_accuracy 88%, validation_accuracy 85%, test_accuracy 85% 정도의 수치로 정상적으로 수렴하였고 좋은 성능을 이끌어 냈습니다.\n",
    ">- __3. SentencePiece 토크나이저를 활용했을 때의 성능을 다른 토크나이저 혹은 SentencePiece의 다른 옵션의 경우와 비교하여 분석을 체계적으로 진행하였다.__ 을 위해서는 다른 파라미터를 가진 모델들과 비교해보았으나 큰 차이는 없었기에 위에 기술하지 않았습니다. 특히나 unigram이 아닌 bpe와 비교해보고싶었으나 bpe는 시간이 너무나 오래걸리는듯 하여 실행해보지 못했습니다. 약 4시간 이상 지켜보았으나 아무런 결과를 보이지 않아 bpe는 load에서부터 문제가 생긴다 판단해 해보지 못했습니다. 때문에 위 코드에서 주석처리해서 코드블럭은 남겨 놓았습니다. 그리고 bpe 대신 다른 Sentencepiece의 옵션 대신 한국어 형태소 분석기인 Mecab, Okt, Komoran과 함께 분석하였습니다. 이 또한 Kkma, Hannanum과도 비교해보고싶었으나 Hannanum은 오류로 인해 진행할 수 없었고 Kkma는 토큰화 과정이 10시간이 넘게 걸리는 바람에 할 수 없었습니다. 그래서 결국 Sentencepiece unigram과 Mecab, Okt, Komoran 4개의 값들을 서로 비교하였습니다.\n",
    "### 루브릭 평가지표를 달성하지 못헀다면 이유\n",
    ">- 아무래도 3번 루브릭이 아닐까 싶습니다. 이유로는 Sentencepiece의 다른 모델인 bpe 모델이 실행되지 않아 비교해보지 못했고 다른 파라미터를 사용한 옵션의 경우엔 전혀 성능차이를 보이지 않았기에 위의 회고에서 대략적인 기술만 하였기 때문이 아닐까 싶습니다."
   ]
  },
  {
   "cell_type": "markdown",
   "id": "dea4fe35",
   "metadata": {},
   "source": [
    "---\n",
    "## 10. Reference"
   ]
  },
  {
   "cell_type": "markdown",
   "id": "821252f4",
   "metadata": {},
   "source": [
    ">- [Sentence Piece github](https://github.com/google/sentencepiece)\n",
    ">- [Sentence Piece 관련 Tistory](https://lsjsj92.tistory.com/600)\n",
    ">- [Sentence Piece 관련 velog](https://velog.io/@gibonki77/SentencePiece)\n",
    ">- [Tensorflow 공식문서](https://www.tensorflow.org/)\n",
    ">- [matplotlib 공식문서](https://matplotlib.org/stable/api/index.html)\n",
    ">- [pandas 공식문서](https://pandas.pydata.org/pandas-docs/stable/user_guide/10min.html)"
   ]
  },
  {
   "cell_type": "markdown",
   "id": "9dbf0ef2",
   "metadata": {},
   "source": [
    "---\n",
    "## 11. 자기다짐 및 아쉬운 점"
   ]
  },
  {
   "cell_type": "markdown",
   "id": "e5491e83",
   "metadata": {},
   "source": [
    "- 이번 프로젝트에서 bpe 모델을 해보지 못한 점이 너무 아쉽습니다. 위의 코드블럭은 실행되지 않은 아쉬움에 모두 남겨놓았습니다. 앞으로 사용할 기회가 된다면 그땐 다시 사용해볼 생각입니다.\n",
    "  \n",
    "  \n",
    "- 이번 프로젝트는 상당히 좋은 프로젝트였습니다. 제 수준이 어느정도인지 파악하기 좋았고 예시코드가 없을지라도 나도 혼자 할 수 있구나 라는걸 느낄 수 있었습니다. 앞으로 더욱 재밌는 프로젝트가 많이 나왔으면 좋겠다는 생각입니다."
   ]
  }
 ],
 "metadata": {
  "kernelspec": {
   "display_name": "Python 3 (ipykernel)",
   "language": "python",
   "name": "python3"
  },
  "language_info": {
   "codemirror_mode": {
    "name": "ipython",
    "version": 3
   },
   "file_extension": ".py",
   "mimetype": "text/x-python",
   "name": "python",
   "nbconvert_exporter": "python",
   "pygments_lexer": "ipython3",
   "version": "3.9.7"
  }
 },
 "nbformat": 4,
 "nbformat_minor": 5
}
